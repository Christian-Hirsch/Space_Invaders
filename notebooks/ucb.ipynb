{
 "cells": [
  {
   "cell_type": "markdown",
   "metadata": {},
   "source": [
    "# Upper Confidence Bound"
   ]
  },
  {
   "cell_type": "markdown",
   "metadata": {},
   "source": [
    "## Motivation"
   ]
  },
  {
   "cell_type": "markdown",
   "metadata": {},
   "source": [
    "The [Upper Confidence Bound (UCB) Algorithm](https://banditalgs.com/2016/09/18/the-upper-confidence-bound-algorithm/) is a highly effective policy for finding the optimal arm in classical [Multi-Armed Bandits](https://banditalgs.com/2016/09/18/the-upper-confidence-bound-algorithm/). It was developed by [T. L. Lai and H. Robbins](https://www.sciencedirect.com/science/article/pii/0196885885900028) in 1985."
   ]
  },
  {
   "cell_type": "markdown",
   "metadata": {},
   "source": [
    "It is based on the principle of **Optimism in the Face of Uncertainty**. Based on the previous experience, in each round, the algorithm determines for each arm the most optimistic estimate for the expected reward that is still plausible from statistical concentration inequalities. This principle naturally gives rise to an exploration bonus for rarely visited arms. More precisely, in round $t$ this bonus takes the form\n",
    "$$\\sqrt{\\frac{2\\log(1/\\delta)}{T(t - 1)}},$$\n",
    "where $\\delta$ is a hyperparameter and $T(t - 1)$ denotes the number of times the considered arm was played before round $t$."
   ]
  },
  {
   "cell_type": "code",
   "execution_count": 43,
   "metadata": {},
   "outputs": [],
   "source": [
    "import numpy as np\n",
    "\n",
    "def expl_bonus(visits, \n",
    "               delta = 1/np.exp(4)):\n",
    "    \"\"\"UCB exploration bonus\n",
    "    \n",
    "    # Arguments\n",
    "        visits: number of visits to the considered arms\n",
    "        delta: hyperparameter encoding degree of optimism\n",
    "    # Result\n",
    "        UCB exploration bonus\n",
    "    \"\"\"\n",
    "    \n",
    "    return np.sqrt(2 * np.log(1 / delta) / visits)"
   ]
  },
  {
   "cell_type": "markdown",
   "metadata": {},
   "source": [
    "## Simulation"
   ]
  },
  {
   "cell_type": "markdown",
   "metadata": {},
   "source": [
    "To illustrate how effective UCB is, we look at a 2-armed bandit with normal rewards of means 1 and 1.1, respectively."
   ]
  },
  {
   "cell_type": "code",
   "execution_count": 91,
   "metadata": {},
   "outputs": [],
   "source": [
    "mus = [1, 1.1]\n",
    "N = 1000\n",
    "\n",
    "seed = 42\n",
    "np.random.seed(seed)"
   ]
  },
  {
   "cell_type": "markdown",
   "metadata": {},
   "source": [
    " We play the bandit for $N= 1000$ episodes."
   ]
  },
  {
   "cell_type": "code",
   "execution_count": 92,
   "metadata": {},
   "outputs": [],
   "source": [
    "visits = np.ones(2)\n",
    "rewards = np.zeros(2)\n",
    "trace_a = []\n",
    "\n",
    "for _ in range(N):\n",
    "    #select action via ucb\n",
    "    kpi = rewards / visits + expl_bonus(visits)\n",
    "    a = np.argmax(kpi)\n",
    "\n",
    "    #retrieve rewards\n",
    "    r = np.random.normal(mus[a])\n",
    "\n",
    "    #update history\n",
    "    visits[a] += 1\n",
    "    rewards[a] += r\n",
    "\n",
    "    #remember actions\n",
    "    trace_a += [a]"
   ]
  },
  {
   "cell_type": "markdown",
   "metadata": {},
   "source": [
    "A plot of the trace reveals that UCB quickly identifies arm 1 as the optimal arm."
   ]
  },
  {
   "cell_type": "code",
   "execution_count": 112,
   "metadata": {},
   "outputs": [
    {
     "data": {
      "text/plain": [
       "<matplotlib.axes._subplots.AxesSubplot at 0x7f98f6cb9dd0>"
      ]
     },
     "execution_count": 112,
     "metadata": {},
     "output_type": "execute_result"
    },
    {
     "data": {
      "image/png": "[encoded data removed]",
      "text/plain": [
       "<Figure size 432x288 with 1 Axes>"
      ]
     },
     "metadata": {
      "needs_background": "light"
     },
     "output_type": "display_data"
    }
   ],
   "source": [
    "import seaborn as sns\n",
    "\n",
    "sns.lineplot(np.arange(N), trace_a)"
   ]
  },
  {
   "cell_type": "code",
   "execution_count": null,
   "metadata": {},
   "outputs": [],
   "source": []
  }
 ],
 "metadata": {
  "kernelspec": {
   "display_name": "Python 3",
   "language": "python",
   "name": "python3"
  },
  "language_info": {
   "codemirror_mode": {
    "name": "ipython",
    "version": 3
   },
   "file_extension": ".py",
   "mimetype": "text/x-python",
   "name": "python",
   "nbconvert_exporter": "python",
   "pygments_lexer": "ipython3",
   "version": "3.7.5rc1"
  }
 },
 "nbformat": 4,
 "nbformat_minor": 4
}
