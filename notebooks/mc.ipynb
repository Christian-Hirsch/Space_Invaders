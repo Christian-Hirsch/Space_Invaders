{
 "cells": [
  {
   "cell_type": "markdown",
   "metadata": {},
   "source": [
    "# Monte Carlo Method"
   ]
  },
  {
   "cell_type": "markdown",
   "metadata": {},
   "source": [
    "In the [previous notebook](./valIt.ipynb), we have encountered value iteration as a simple and effective method to solve problems in reinforcement learning. However, as a model-based approach, it is only useful if a model for the transition probabilities is available."
   ]
  },
  {
   "cell_type": "markdown",
   "metadata": {},
   "source": [
    "In the present notebook, we encounter the **Monte Carlo Method** as a simple and powerful method in the context of **model-free methods**. That is, we directly learn an approximation of the value function from the observations. We first describe the concept behind this method before showing how it applies to the ``Frozen Lake`` testcase."
   ]
  },
  {
   "cell_type": "markdown",
   "metadata": {},
   "source": [
    "## Learning the Value Table"
   ]
  },
  {
   "cell_type": "markdown",
   "metadata": {},
   "source": [
    "In essence, the Monte Carlo method relies on the observation that the value of a state can be estimated by averaging the  total rewards $\\{R^{(n)}\\}_{n \\le N}$ defined via\n",
    "$$R^{(n)} = r_0^{(n)} +  r_1^{(n)} + \\cdots$$\n",
    "over a large number of $N$ simulations. "
   ]
  },
  {
   "cell_type": "markdown",
   "metadata": {},
   "source": [
    "That is, when starting the simulation at a state $s$, we estimate\n",
    "$$V(s) \\approx \\frac{R^{(1)} + \\cdots + R^{(N)}}N.$$ \n"
   ]
  },
  {
   "cell_type": "markdown",
   "metadata": {},
   "source": [
    "In fact, we can increase the sample-efficiency by using a single run to update the value function of all states occurring along the run."
   ]
  },
  {
   "cell_type": "code",
   "execution_count": 232,
   "metadata": {},
   "outputs": [],
   "source": [
    "import gym\n",
    "\n",
    "def episode(env = gym.make('FrozenLake-v0')):\n",
    "    \"\"\"Simulate one episode of the environment\n",
    "    \n",
    "    # Arguments\n",
    "        env: environment for the problem\n",
    "    # Result\n",
    "        states visited and reward\n",
    "    \"\"\"\n",
    "\n",
    "    R = 0\n",
    "    s = env.reset()\n",
    "    state_trace = [s]\n",
    "\n",
    "    while True:\n",
    "        (s, r, d, _) = env.step(np.random.choice(env.action_space.n))\n",
    "\n",
    "        state_trace += [s]\n",
    "        R += r\n",
    "\n",
    "        if d: break\n",
    "    return state_trace, R"
   ]
  },
  {
   "cell_type": "markdown",
   "metadata": {},
   "source": [
    "Now, we estimate the value function from a large number of iterations."
   ]
  },
  {
   "cell_type": "code",
   "execution_count": 233,
   "metadata": {},
   "outputs": [],
   "source": [
    "import numpy as np\n",
    "\n",
    "#number of episodes\n",
    "neps = int(2e3)\n",
    "\n",
    "rewards = np.zeros((env.nS, neps))\n",
    "visits = np.zeros((env.nS, neps))\n",
    "\n",
    "for i in range(neps):\n",
    "    state_trace, R = episode()\n",
    "    rewards[state_trace, i] = R\n",
    "    visits[state_trace, i] = 1"
   ]
  },
  {
   "cell_type": "markdown",
   "metadata": {},
   "source": [
    "# Visualization"
   ]
  },
  {
   "cell_type": "markdown",
   "metadata": {},
   "source": [
    "A visualization reveals that the Monte Carlo methods leads to a rapid convergence of the state values."
   ]
  },
  {
   "cell_type": "code",
   "execution_count": 234,
   "metadata": {},
   "outputs": [
    {
     "name": "stderr",
     "output_type": "stream",
     "text": [
      "/home/christian/.local/lib/python3.7/site-packages/ipykernel_launcher.py:4: RuntimeWarning: invalid value encountered in true_divide\n",
      "  after removing the cwd from sys.path.\n"
     ]
    },
    {
     "data": {
      "text/plain": [
       "<matplotlib.axes._subplots.AxesSubplot at 0x7f89da680358>"
      ]
     },
     "execution_count": 234,
     "metadata": {},
     "output_type": "execute_result"
    },
    {
     "data": {
      "image/png": "[encoded data removed]",
      "text/plain": [
       "<Figure size 432x288 with 1 Axes>"
      ]
     },
     "metadata": {
      "needs_background": "light"
     },
     "output_type": "display_data"
    }
   ],
   "source": [
    "import pandas as pd\n",
    "%matplotlib inline\n",
    "\n",
    "r_trace = np.cumsum(rewards, 1) / np.cumsum(visits, 1)\n",
    "df = pd.DataFrame(np.transpose(r_trace))\n",
    "df.plot(legend = False)"
   ]
  },
  {
   "cell_type": "markdown",
   "metadata": {},
   "source": [
    "## Learning the Optimal Policy"
   ]
  },
  {
   "cell_type": "markdown",
   "metadata": {},
   "source": [
    "Now, we reproduce the [lucid notebook](https://github.com/jknthn/learning-rl/blob/master/monte-carlo-methods.ipynb) by Jeremi Kaczmarczyk to extract the optimal policy from MC estimates."
   ]
  },
  {
   "cell_type": "markdown",
   "metadata": {},
   "source": [
    "The central piece is the fitting of an $\\varepsilon$-soft policy via Monte Carlo methods."
   ]
  },
  {
   "cell_type": "code",
   "execution_count": 41,
   "metadata": {},
   "outputs": [],
   "source": [
    "def monte_carlo_e_soft(env, \n",
    "                       neps = int(5e3), \n",
    "                       eps = 1e-2):\n",
    "    \"\"\"Fit an epsilon-soft policy via Monte Carlo\n",
    "    \n",
    "    # Arguments\n",
    "        env: environment for the problem\n",
    "        neps: number of episodes\n",
    "        eps: fit eps-soft policy\n",
    "    # Result\n",
    "        fitted policy\n",
    "    \"\"\"\n",
    "    \n",
    "    #initialize Q-function and random policy\n",
    "    policy = np.full((env.nS, env.nA), 1 / env.nA)\n",
    "    Q = np.zeros((env.nS, env.nA))\n",
    "    \n",
    "    #rewards and visits to state action pairs\n",
    "    rewards = np.zeros((env.nS, env.nA))\n",
    "    visits = np.zeros((env.nS, env.nA))\n",
    "    \n",
    "    for _ in range(neps):\n",
    "        #create episode\n",
    "        G = 0 \n",
    "        episode = run_game(env, policy) \n",
    "        \n",
    "        for i in reversed(range(len(episode))):\n",
    "            #accumulate rewards\n",
    "            s, a, r = episode[i] \n",
    "            G += r \n",
    "            \n",
    "            if not (s, a) in [(x[0], x[1]) for x in episode[:i]]: \n",
    "                #update rewards and visits\n",
    "                rewards[s, a] += G\n",
    "                visits[s, a] += 1\n",
    "                \n",
    "                #update Q-function\n",
    "                Q[s, a] = rewards[s, a] / visits[s, a] \n",
    "                \n",
    "                #eps-greedy policy\n",
    "                max_idx = np.random.choice(np.where(Q[s, :] == max(Q[s, :]))[0])                \n",
    "                policy[s, :] = eps / env.nA\n",
    "                policy[s, max_idx] += 1 - eps\n",
    "    return policy"
   ]
  },
  {
   "cell_type": "markdown",
   "metadata": {},
   "source": [
    "During the fitting, we need to simulate an episode according to a given policy."
   ]
  },
  {
   "cell_type": "code",
   "execution_count": 133,
   "metadata": {},
   "outputs": [],
   "source": [
    "import numpy as np\n",
    "\n",
    "def run_game(env, \n",
    "             policy):\n",
    "    \"\"\"Simulate one episode of the environment according to a given policy\n",
    "    \n",
    "    # Arguments\n",
    "        env: environment for the problem\n",
    "        policy: chosen policy\n",
    "    # Result\n",
    "        states visited and reward\n",
    "    \"\"\"\n",
    "    s = env.reset()\n",
    "    trace = []\n",
    "    \n",
    "    while True:      \n",
    "        #select action according to policy\n",
    "        a = np.random.choice(range(env.nA), p = policy[s, :])   \n",
    "        ss, r, d, _ =  env.step(a)        \n",
    "        \n",
    "        #add observation to trace\n",
    "        trace += [(s, a, r)]        \n",
    "        s = ss\n",
    "        \n",
    "        #terminate \n",
    "        if d: break    \n",
    "       \n",
    "    return trace"
   ]
  },
  {
   "cell_type": "markdown",
   "metadata": {},
   "source": [
    "Finally, we check how well the fitted method performs."
   ]
  },
  {
   "cell_type": "code",
   "execution_count": 238,
   "metadata": {},
   "outputs": [
    {
     "data": {
      "text/plain": [
       "0.267"
      ]
     },
     "execution_count": 238,
     "metadata": {},
     "output_type": "execute_result"
    }
   ],
   "source": [
    "NTEST = int(1e3)\n",
    "\n",
    "np.random.seed(seed)\n",
    "policy = monte_carlo_e_soft(env)\n",
    "\n",
    "wins = 0\n",
    "for _ in range(NTEST):\n",
    "    _, _, w = run_game(env, policy)[-1]\n",
    "    wins += w\n",
    "wins / NTEST"
   ]
  },
  {
   "cell_type": "code",
   "execution_count": null,
   "metadata": {},
   "outputs": [],
   "source": []
  }
 ],
 "metadata": {
  "kernelspec": {
   "display_name": "Python 3",
   "language": "python",
   "name": "python3"
  },
  "language_info": {
   "codemirror_mode": {
    "name": "ipython",
    "version": 3
   },
   "file_extension": ".py",
   "mimetype": "text/x-python",
   "name": "python",
   "nbconvert_exporter": "python",
   "pygments_lexer": "ipython3",
   "version": "3.7.3"
  }
 },
 "nbformat": 4,
 "nbformat_minor": 2
}
