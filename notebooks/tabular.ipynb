{
 "cells": [
  {
   "cell_type": "markdown",
   "metadata": {},
   "source": [
    "#  Q-Learning"
   ]
  },
  {
   "cell_type": "markdown",
   "metadata": {},
   "source": [
    "In a [previous notebook](./cem.ipynb), we tackled the problem of learning an approximation to the $Q$-function via the [Cross-Entropy Method](https://link.springer.com/book/10.1007/978-1-4757-4321-0). In its most basic form, table $Q$-learning can only be applied for problems defined on small state spaces. However, when combined with deep learning it evolves into [Deep Q-learning](), which can also be applied to high-dimensional state spaces such as pixel images in [Space Invaders](https://gym.openai.com/envs/SpaceInvaders-v0/).\n",
    "\n",
    "In the present notebook, we consider **Q-Learning** as an alternative. The code is based on the highly recommendable [tutorial by Arthur Juliani]()."
   ]
  },
  {
   "cell_type": "markdown",
   "metadata": {},
   "source": [
    "## Learning the Q-table"
   ]
  },
  {
   "cell_type": "markdown",
   "metadata": {},
   "source": [
    "Tabular Q-learning is based on the **Bellman Equation** for the state-value function $Q^*$ under the optimal policy:\n",
    "$$Q^*(s, a) = r + \\gamma\\max_{a' \\in A} Q^*(s', a'),$$\n",
    "where $\\gamma < 1$ is the discount factor and $s'$ is the state of the environment after performing the action $a$ in state $s$. In tabular $Q$-learning, we first collect tuples $(s, a, s', r)$ by having an agent interact with the environment. Then, we push the $Q$-values carefully in the direction of the values indicated by the Bellman Equation. That is, we set\n",
    "$$Q(s, a) \\leftarrow Q(s,a) + \\alpha \\delta,$$\n",
    "where $\\alpha > 0$ is a **learning rate** and \n",
    "$$\\delta = (r + \\gamma \\max_{a' \\in A} Q(s', a')) - Q(s, a)$$ \n",
    "is the **TD error**."
   ]
  },
  {
   "cell_type": "code",
   "execution_count": 5,
   "metadata": {},
   "outputs": [],
   "source": [
    "lr = 0.8\n",
    "gamma = .95\n",
    "\n",
    "def q_step(Q, env, sigma, s):\n",
    "    \"\"\"Update the q-values once\n",
    "    \n",
    "    # Arguments\n",
    "        Q: Q function\n",
    "        env: environment for the problem\n",
    "        sigma: strength of noise for fuzzy action selection\n",
    "        s: current state\n",
    "    # Result\n",
    "        Q, s, r, d after the step in the environment\n",
    "    \"\"\"\n",
    "    \n",
    "    a = np.argmax(Q[s, :] + np.random.randn(1, env.nA) * sigma)\n",
    "    \n",
    "    ss, r, d, _ = env.step(a)\n",
    "    \n",
    "    delta = r + gamma * np.max(Q[ss,:]) - Q[s,a]\n",
    "    Q[s, a] = Q[s, a] + lr * delta\n",
    "    \n",
    "    return Q, ss, r, d"
   ]
  },
  {
   "cell_type": "markdown",
   "metadata": {},
   "source": [
    "This approach learns the optimal policy rapidly in small state spaces. However, in larger state spaces it is no longer effective since an enormous number of runs would is necessary to update the $Q$-values of every state-action pair for a reasonably large number of iterations."
   ]
  },
  {
   "cell_type": "markdown",
   "metadata": {},
   "source": [
    "## Example: Frozen Lake"
   ]
  },
  {
   "cell_type": "markdown",
   "metadata": {},
   "source": [
    "As an example, we return to the game ``Frozen Lake`` that we have considered already when learning about [value iteration](./valIt.ipynb).\n"
   ]
  },
  {
   "cell_type": "code",
   "execution_count": 8,
   "metadata": {},
   "outputs": [],
   "source": [
    "neps = int(1e3)\n",
    "nsteps = int(1e2)\n",
    "rList = []\n",
    "Q = np.zeros((env.nS, env.nA))\n",
    "\n",
    "for i in range(neps):\n",
    "    s = env.reset()\n",
    "    rTot = 0\n",
    "    for _ in range(nsteps):\n",
    "        Q, s, r, d = q_step(Q, env, 1 / (i + 1), s)\n",
    "        rTot +=r\n",
    "        if(d):\n",
    "            break\n",
    "    rList.append(rTot)"
   ]
  },
  {
   "cell_type": "markdown",
   "metadata": {},
   "source": [
    "Plotting the moving averages illustrates that we quickly learn a good policy."
   ]
  },
  {
   "cell_type": "code",
   "execution_count": 15,
   "metadata": {},
   "outputs": [
    {
     "data": {
      "text/plain": [
       "<matplotlib.axes._subplots.AxesSubplot at 0x7f66a8b29f98>"
      ]
     },
     "execution_count": 15,
     "metadata": {},
     "output_type": "execute_result"
    },
    {
     "data": {
      "image/png": "[encoded data removed]",
      "text/plain": [
       "<Figure size 432x288 with 1 Axes>"
      ]
     },
     "metadata": {
      "needs_background": "light"
     },
     "output_type": "display_data"
    }
   ],
   "source": [
    "import seaborn as sns\n",
    "%matplotlib inline\n",
    "window = int(1e2)\n",
    "\n",
    "mov_avg = np.convolve(rList, np.ones(window) / window,   'valid')\n",
    "sns.tsplot(mov_avg)"
   ]
  },
  {
   "cell_type": "code",
   "execution_count": null,
   "metadata": {},
   "outputs": [],
   "source": []
  },
  {
   "cell_type": "code",
   "execution_count": null,
   "metadata": {},
   "outputs": [],
   "source": []
  }
 ],
 "metadata": {
  "kernelspec": {
   "display_name": "Python 3",
   "language": "python",
   "name": "python3"
  },
  "language_info": {
   "codemirror_mode": {
    "name": "ipython",
    "version": 3
   },
   "file_extension": ".py",
   "mimetype": "text/x-python",
   "name": "python",
   "nbconvert_exporter": "python",
   "pygments_lexer": "ipython3",
   "version": "3.7.3"
  }
 },
 "nbformat": 4,
 "nbformat_minor": 2
}
