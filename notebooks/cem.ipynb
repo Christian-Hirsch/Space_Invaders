{
 "cells": [
  {
   "cell_type": "markdown",
   "metadata": {},
   "source": [
    "# Cross-Entropy Method"
   ]
  },
  {
   "cell_type": "markdown",
   "metadata": {},
   "source": [
    "In the [previous notebook](./mc.ipynb), we saw how the Monte Carlo Method makes it possible to learn the value function, even if the transition probabilities are unknown. However, the method breaks down as soon as the state space becomes large or continuous. Then, it is no longer feasible to represent the values of all states in a table.\n"
   ]
  },
  {
   "cell_type": "markdown",
   "metadata": {},
   "source": [
    "To approach this problem, one typically relies on a parametric approximation of the value function or the $Q$ function. In the present notebook, we discuss the effective and robust [Cross-Entropy Method](https://www.springer.com/de/book/9780387212401) as an approach for tackling the resulting challenge of estimating the optimal parameters."
   ]
  },
  {
   "cell_type": "markdown",
   "metadata": {},
   "source": [
    "## Approximating the Q-function"
   ]
  },
  {
   "cell_type": "markdown",
   "metadata": {},
   "source": [
    "Ideally, when in a state $s \\in \\mathbb R^{d_s}$, the agent should choose the action $a \\in A$ maximizing the expected discounted rewards, i.e., solve the optimization problem $\\max_a Q(s, a)$. Even if the action space is small, this is a highly challenging task within the class of [noisy optimization problems](https://people.smp.uq.edu.au/DirkKroese/ps/CEopt.pdf), because the function $Q$ is not known in advance: it has to be learned from simulations. For this purpose, we first define a method, where the agent collects rewards according to a given approximation of the $q$-function."
   ]
  },
  {
   "cell_type": "code",
   "execution_count": 6,
   "metadata": {},
   "outputs": [],
   "source": [
    "import gym\n",
    "import numpy as np\n",
    "\n",
    "def episode(Q, env):\n",
    "    \"\"\"Simulate one episode of the environment\n",
    "    \n",
    "    # Arguments\n",
    "        Q: Q function\n",
    "        env: environment for the problem\n",
    "        nsteps: maximal number of simulation steps\n",
    "    # Result\n",
    "        total reward during the episode\n",
    "    \"\"\"\n",
    "    R  = 0\n",
    "    s = env.reset()\n",
    "    while True:\n",
    "        q_vec = [Q(s, a) for a in range(env.action_space.n)]\n",
    "        a = np.argmax(q_vec)\n",
    "        \n",
    "        s, r, d, _ = env.step(a)\n",
    "        \n",
    "        R += r\n",
    "        if d:\n",
    "            break\n",
    "    return R"
   ]
  },
  {
   "cell_type": "markdown",
   "metadata": {},
   "source": [
    "One possibility is to cast this task as a parametric estimation problem, by assuming that the function $Q = Q_\\theta$ is parametrized by a suitable parameter vector $\\theta$. "
   ]
  },
  {
   "cell_type": "markdown",
   "metadata": {},
   "source": [
    "To begin with, we consider linear parametrizations, where for each parameter action $a \\in A$, there is a weight vector $w_a \\in \\mathbb R^{d_s}$ such that we approximate $Q(s, a)$ as \n",
    "$$Q_{w}(s, a) = w_a^\\top s.$$"
   ]
  },
  {
   "cell_type": "code",
   "execution_count": 9,
   "metadata": {},
   "outputs": [],
   "source": [
    "def q_apx(s, a, theta):\n",
    "    return np.dot(theta[:, a], s)"
   ]
  },
  {
   "cell_type": "markdown",
   "metadata": {},
   "source": [
    "## Learning via the Cross-Entropy Method"
   ]
  },
  {
   "cell_type": "markdown",
   "metadata": {},
   "source": [
    "After the approximation $Q \\approx Q_\\theta$, we can now collect total rewards $\\{R_i\\}_{i \\le N}$ from $N$ simulation runs with parameters $\\{\\theta_i\\}_{i \\le N}$. Due to the random initialization of the environment, the mapping $\\theta_i \\to R_i$ is in general still subject to random effects. The task is to find the parameter vector $\\theta_{\\mathsf {opt}}$ that maximizes the total expected rewards."
   ]
  },
  {
   "cell_type": "markdown",
   "metadata": {},
   "source": [
    "To this end, we resort to the **cross-entropy method**, which is a gradient-free, robust and versatile optimization technique. Here, we first generate the parameter vectors $\\{\\theta_i\\}_{i \\le N}$ according to a Gaussian proposal distribution with some mean $\\mu$ and some covariance matrix $\\Sigma$. Next, we collect associated rewards $\\{R_i\\}_{i \\le N}$ and determine an **elite sample** $\\{\\theta_{i_1}, \\dots, \\theta_{i_{N'}}\\}$ of size $N' \\ll N$ corresponding to the $N'$ highest total rewards. Finally, we adapt the proposal distribution by updating $\\mu$ and $\\Sigma$ as the sample mean and sample covariance of the elite sample. In this way, the mean $\\mu$ gradually approaches the optimal parameter vector $\\theta_{\\mathsf{opt}}$."
   ]
  },
  {
   "cell_type": "code",
   "execution_count": null,
   "metadata": {},
   "outputs": [],
   "source": [
    "mu_init = np.zeros((env.observation_space.shape[0], env.action_space.n))\n",
    "std_init = np.ones((env.observation_space.shape[0], env.action_space.n))\n",
    "\n",
    "nsamp = int(1e2)\n",
    "nelite = int(1e1)\n",
    "niter = int(2e1)\n",
    "\n",
    "mu = mu_init\n",
    "std = std_init\n",
    "reward_trace = []\n",
    "\n",
    "for _ in range(niter):\n",
    "    thetas = np.random.randn(nsamp, *mu_init.shape) * std + mu\n",
    "    \n",
    "    rs = [episode(lambda s, a: q_apx(s, a, thetas[i, :, :]), env) \n",
    "          for i in range(nsamp)]\n",
    "    \n",
    "    reward_trace += [np.mean(rs)]\n",
    "    \n",
    "    elite_idxs  = np.argsort(rs)[-nelite:]\n",
    "    thetas_elite = thetas[elite_idxs, :, :]\n",
    "    \n",
    "    mu = np.mean(thetas_elite, 3)\n",
    "    std = np.std(thetas_elite, 0)"
   ]
  },
  {
   "cell_type": "markdown",
   "metadata": {},
   "source": [
    "We see that this simple optimization scheme already learns quickly a useful policy."
   ]
  },
  {
   "cell_type": "code",
   "execution_count": 25,
   "metadata": {},
   "outputs": [
    {
     "data": {
      "text/plain": [
       "Text(0, 0.5, 'reward')"
      ]
     },
     "execution_count": 25,
     "metadata": {},
     "output_type": "execute_result"
    },
    {
     "data": {
      "image/png": "[encoded data removed]",
      "text/plain": [
       "<Figure size 432x288 with 1 Axes>"
      ]
     },
     "metadata": {
      "needs_background": "light"
     },
     "output_type": "display_data"
    }
   ],
   "source": [
    "%matplotlib inline\n",
    "import seaborn as sns\n",
    "import pandas as pd\n",
    "\n",
    "ax = pd.Series(reward_trace).plot()\n",
    "ax.set_xlabel('episode')\n",
    "ax.set_ylabel('reward')"
   ]
  },
  {
   "cell_type": "markdown",
   "metadata": {},
   "source": [
    "We can also visualize how the learned policy works in practice."
   ]
  },
  {
   "cell_type": "code",
   "execution_count": 27,
   "metadata": {},
   "outputs": [],
   "source": [
    "nsteps = int(2e3)\n",
    "\n",
    "s= env.reset()\n",
    "\n",
    "for _ in range(nsteps):\n",
    "    q_vec = [q_apx(s, a, mu) for a in range(2)]\n",
    "    a = np.argmax(q_vec)\n",
    "    \n",
    "    s, _, d, _ = env.step(a)\n",
    "    env.render()\n",
    "    if d:\n",
    "        break\n",
    "env.close()"
   ]
  }
 ],
 "metadata": {
  "kernelspec": {
   "display_name": "Python 3",
   "language": "python",
   "name": "python3"
  },
  "language_info": {
   "codemirror_mode": {
    "name": "ipython",
    "version": 3
   },
   "file_extension": ".py",
   "mimetype": "text/x-python",
   "name": "python",
   "nbconvert_exporter": "python",
   "pygments_lexer": "ipython3",
   "version": "3.7.3"
  }
 },
 "nbformat": 4,
 "nbformat_minor": 2
}
