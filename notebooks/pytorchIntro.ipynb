{
 "cells": [
  {
   "cell_type": "markdown",
   "metadata": {},
   "source": [
    "# Pytorch\n",
    "\n",
    "In this notebook we will learn how to train a neural network with [pytorch](https://pytorch.org/docs/stable/index.html), a great Python library for Deep Learning.\n",
    "\n",
    "As an example, we want to learn the following mysterious function:"
   ]
  },
  {
   "cell_type": "code",
   "execution_count": 9,
   "metadata": {},
   "outputs": [],
   "source": [
    "import torch\n",
    "import torch.nn as nn\n",
    "import matplotlib.pyplot as plt\n",
    "\n",
    "def mysterious_function(x):\n",
    "    return torch.sin(x)"
   ]
  },
  {
   "cell_type": "markdown",
   "metadata": {},
   "source": [
    "Here is a small function to generate a batch of size ``num_samples``:"
   ]
  },
  {
   "cell_type": "code",
   "execution_count": 10,
   "metadata": {},
   "outputs": [
    {
     "name": "stdout",
     "output_type": "stream",
     "text": [
      "tensor([[ 0.3695],\n",
      "        [-0.8340],\n",
      "        [ 0.3434],\n",
      "        [-0.8488],\n",
      "        [-0.2668],\n",
      "        [ 1.5321],\n",
      "        [ 0.1218],\n",
      "        [ 0.4690],\n",
      "        [ 0.6371],\n",
      "        [-0.9852]])\n",
      "tensor([[ 0.3612],\n",
      "        [-0.7406],\n",
      "        [ 0.3367],\n",
      "        [-0.7505],\n",
      "        [-0.2637],\n",
      "        [ 0.9993],\n",
      "        [ 0.1215],\n",
      "        [ 0.4520],\n",
      "        [ 0.5949],\n",
      "        [-0.8334]])\n"
     ]
    }
   ],
   "source": [
    "def getdata(num_samples):\n",
    "    x = torch.randn(num_samples,1)\n",
    "    y = mysterious_function(x)\n",
    "    return x, y\n",
    "\n",
    "x, y = getdata(10)\n",
    "print(x)\n",
    "print(y)"
   ]
  },
  {
   "cell_type": "code",
   "execution_count": 3,
   "metadata": {},
   "outputs": [
    {
     "data": {
      "text/plain": [
       "tensor([ 1.5795, -0.5325,  2.7610, -0.8925,  1.0439,  2.7233, -0.4860, -0.9887,\n",
       "         0.4140, -1.6757])"
      ]
     },
     "execution_count": 3,
     "metadata": {},
     "output_type": "execute_result"
    }
   ],
   "source": [
    "torch.randn(10) + torch.randn(10)"
   ]
  },
  {
   "cell_type": "markdown",
   "metadata": {},
   "source": [
    "**Remark**: The variables x and y in this function have the data type ``torch.Tensor``. Tensors are in most aspects very similar to numpy arrays, but they can also store gradients. More on this later."
   ]
  },
  {
   "cell_type": "markdown",
   "metadata": {},
   "source": [
    "Next we define the class with our neural network. This class should always inherit ``nn.Module`` (the base class for all neural networks) and has to define the two functions ``__init__`` and ``forward``.\n",
    "\n",
    "The net we are using here contains one linear layer with 1 input and 20 output nodes, followed by a ReLU layer and finally another linear layer with 20 input nodes and 1 output node. We use ``add_module`` to add these layers to our net with the first parameter being the name of the layer added.\n",
    "\n",
    "The ``forward`` function describes the forward pass through the network. In our case we just call the layers defined in ``__init__`` in the right order.\n",
    "\n",
    "(**Tip**: In this case we could also have saved the definition of the class and instead used ``nn.Sequential``, but we do it anyways for educational purposes.)"
   ]
  },
  {
   "cell_type": "code",
   "execution_count": 4,
   "metadata": {},
   "outputs": [],
   "source": [
    "class MyNet(nn.Module):\n",
    "    def __init__(self):\n",
    "        super(MyNet, self).__init__()\n",
    "        self.add_module('hidden', nn.Linear(1, 20))\n",
    "        self.add_module('relu', nn.ReLU())\n",
    "        self.add_module('out', nn.Linear(20,1))\n",
    "    \n",
    "    def forward(self, x):\n",
    "        x = self.hidden(x)\n",
    "        x = self.relu(x)\n",
    "        x = self.out(x)\n",
    "        return x\n"
   ]
  },
  {
   "cell_type": "markdown",
   "metadata": {},
   "source": [
    "Now comes the heart of our little program - the training loop.\n",
    "For this we first need to choose an optimizing strategy and a loss function (here SGD and L1).\n",
    "And this is what it looks like:"
   ]
  },
  {
   "cell_type": "code",
   "execution_count": 6,
   "metadata": {},
   "outputs": [
    {
     "data": {
      "text/plain": [
       "tensor([[0.4040],\n",
       "        [0.1771],\n",
       "        [0.6640],\n",
       "        [0.8597],\n",
       "        [0.4944],\n",
       "        [0.5188],\n",
       "        [0.1723],\n",
       "        [0.1834],\n",
       "        [0.1983],\n",
       "        [0.2944]], grad_fn=<AddmmBackward>)"
      ]
     },
     "execution_count": 6,
     "metadata": {},
     "output_type": "execute_result"
    }
   ],
   "source": [
    "model = MyNet()\n",
    "model.forward(torch.randn(10,1))"
   ]
  },
  {
   "cell_type": "code",
   "execution_count": 7,
   "metadata": {},
   "outputs": [],
   "source": [
    "def train(num_steps, learning_rate, batch_size):\n",
    "    model = MyNet()\n",
    "    optimizer = torch.optim.SGD(model.parameters(), lr = learning_rate)\n",
    "    loss_fn = nn.MSELoss()\n",
    "    \n",
    "    for step in range(num_steps):\n",
    "        optimizer.zero_grad()\n",
    "        x, y = getdata(batch_size)\n",
    "        y_model = model(x)\n",
    "        loss = loss_fn(y_model, y)\n",
    "        print(loss)\n",
    "        loss.backward()\n",
    "        optimizer.step()\n",
    "    return model"
   ]
  },
  {
   "cell_type": "code",
   "execution_count": 31,
   "metadata": {},
   "outputs": [],
   "source": [
    "def train(num_steps, learning_rate, batch_size):\n",
    "    model = MyNet()\n",
    "    optimizer = torch.optim.SGD(model.parameters(), lr = learning_rate)\n",
    "    loss_fn = nn.L1Loss()\n",
    "    model.train()\n",
    "\n",
    "    for step in range(num_steps):\n",
    "        optimizer.zero_grad()\n",
    "        x, y = getdata(batch_size)\n",
    "        y_model = model(x)\n",
    "        loss = loss_fn(y_model, y)\n",
    "        loss.backward()\n",
    "        optimizer.step()\n",
    "\n",
    "    return model"
   ]
  },
  {
   "cell_type": "markdown",
   "metadata": {},
   "source": [
    "Ok, let us go through this part step by step:\n",
    "\n",
    "First we pick an optimization strategy and a loss function (here SGD and L1). Here, ``model.parameters()`` returns an iterator over all parameters of ``model``. (By the way, this is why we used ``add_module`` instead of ``self.hidden = ...`` etc. earlier.)\n",
    "\n",
    "``optimizer.zero_grad()`` initializes all gradients of all parameters to zero.\n",
    "\n",
    "``model(x)`` calls the ``forward`` function of ``model`` and at the same time builds the computation graph dynamically.\n",
    "\n",
    "``loss.backward()`` then iterates backwards through the computation graph and computes the gradients (which are stored in the model parameters).\n",
    "\n",
    "And finally ``optimizer.step()`` executes one learning step with the current gradients."
   ]
  },
  {
   "cell_type": "markdown",
   "metadata": {},
   "source": [
    "We can now set our hyperparameters and call our training function.\n",
    "We also added a small test output for good measure."
   ]
  },
  {
   "cell_type": "code",
   "execution_count": 11,
   "metadata": {},
   "outputs": [
    {
     "name": "stdout",
     "output_type": "stream",
     "text": [
      "tensor(0.2305, grad_fn=<MseLossBackward>)\n",
      "tensor(0.1966, grad_fn=<MseLossBackward>)\n",
      "tensor(0.1160, grad_fn=<MseLossBackward>)\n",
      "tensor(0.1295, grad_fn=<MseLossBackward>)\n",
      "tensor(0.0762, grad_fn=<MseLossBackward>)\n",
      "tensor(0.0492, grad_fn=<MseLossBackward>)\n",
      "tensor(0.0655, grad_fn=<MseLossBackward>)\n",
      "tensor(0.0729, grad_fn=<MseLossBackward>)\n",
      "tensor(0.0317, grad_fn=<MseLossBackward>)\n",
      "tensor(0.0309, grad_fn=<MseLossBackward>)\n",
      "tensor(0.0288, grad_fn=<MseLossBackward>)\n",
      "tensor(0.0402, grad_fn=<MseLossBackward>)\n",
      "tensor(0.0411, grad_fn=<MseLossBackward>)\n",
      "tensor(0.0516, grad_fn=<MseLossBackward>)\n",
      "tensor(0.0167, grad_fn=<MseLossBackward>)\n",
      "tensor(0.0176, grad_fn=<MseLossBackward>)\n",
      "tensor(0.0301, grad_fn=<MseLossBackward>)\n",
      "tensor(0.0359, grad_fn=<MseLossBackward>)\n",
      "tensor(0.0285, grad_fn=<MseLossBackward>)\n",
      "tensor(0.0229, grad_fn=<MseLossBackward>)\n",
      "tensor(0.0191, grad_fn=<MseLossBackward>)\n",
      "tensor(0.0241, grad_fn=<MseLossBackward>)\n",
      "tensor(0.0176, grad_fn=<MseLossBackward>)\n",
      "tensor(0.0291, grad_fn=<MseLossBackward>)\n",
      "tensor(0.0190, grad_fn=<MseLossBackward>)\n",
      "tensor(0.0285, grad_fn=<MseLossBackward>)\n",
      "tensor(0.0197, grad_fn=<MseLossBackward>)\n",
      "tensor(0.0181, grad_fn=<MseLossBackward>)\n",
      "tensor(0.0353, grad_fn=<MseLossBackward>)\n",
      "tensor(0.0328, grad_fn=<MseLossBackward>)\n",
      "tensor(0.0239, grad_fn=<MseLossBackward>)\n",
      "tensor(0.0389, grad_fn=<MseLossBackward>)\n",
      "tensor(0.0342, grad_fn=<MseLossBackward>)\n",
      "tensor(0.0738, grad_fn=<MseLossBackward>)\n",
      "tensor(0.0365, grad_fn=<MseLossBackward>)\n",
      "tensor(0.0274, grad_fn=<MseLossBackward>)\n",
      "tensor(0.0743, grad_fn=<MseLossBackward>)\n",
      "tensor(0.0171, grad_fn=<MseLossBackward>)\n",
      "tensor(0.0356, grad_fn=<MseLossBackward>)\n",
      "tensor(0.0162, grad_fn=<MseLossBackward>)\n",
      "tensor(0.0215, grad_fn=<MseLossBackward>)\n",
      "tensor(0.0187, grad_fn=<MseLossBackward>)\n",
      "tensor(0.0183, grad_fn=<MseLossBackward>)\n",
      "tensor(0.0369, grad_fn=<MseLossBackward>)\n",
      "tensor(0.0261, grad_fn=<MseLossBackward>)\n",
      "tensor(0.0212, grad_fn=<MseLossBackward>)\n",
      "tensor(0.0155, grad_fn=<MseLossBackward>)\n",
      "tensor(0.0126, grad_fn=<MseLossBackward>)\n",
      "tensor(0.0269, grad_fn=<MseLossBackward>)\n",
      "tensor(0.0227, grad_fn=<MseLossBackward>)\n",
      "tensor(0.0119, grad_fn=<MseLossBackward>)\n",
      "tensor(0.0293, grad_fn=<MseLossBackward>)\n",
      "tensor(0.0153, grad_fn=<MseLossBackward>)\n",
      "tensor(0.0155, grad_fn=<MseLossBackward>)\n",
      "tensor(0.0452, grad_fn=<MseLossBackward>)\n",
      "tensor(0.0311, grad_fn=<MseLossBackward>)\n",
      "tensor(0.0176, grad_fn=<MseLossBackward>)\n",
      "tensor(0.0363, grad_fn=<MseLossBackward>)\n",
      "tensor(0.0129, grad_fn=<MseLossBackward>)\n",
      "tensor(0.0212, grad_fn=<MseLossBackward>)\n",
      "tensor(0.0459, grad_fn=<MseLossBackward>)\n",
      "tensor(0.0131, grad_fn=<MseLossBackward>)\n",
      "tensor(0.0156, grad_fn=<MseLossBackward>)\n",
      "tensor(0.0280, grad_fn=<MseLossBackward>)\n",
      "tensor(0.0226, grad_fn=<MseLossBackward>)\n",
      "tensor(0.0384, grad_fn=<MseLossBackward>)\n",
      "tensor(0.0270, grad_fn=<MseLossBackward>)\n",
      "tensor(0.0315, grad_fn=<MseLossBackward>)\n",
      "tensor(0.0314, grad_fn=<MseLossBackward>)\n",
      "tensor(0.0434, grad_fn=<MseLossBackward>)\n",
      "tensor(0.0348, grad_fn=<MseLossBackward>)\n",
      "tensor(0.0295, grad_fn=<MseLossBackward>)\n",
      "tensor(0.0381, grad_fn=<MseLossBackward>)\n",
      "tensor(0.0227, grad_fn=<MseLossBackward>)\n",
      "tensor(0.0213, grad_fn=<MseLossBackward>)\n",
      "tensor(0.0287, grad_fn=<MseLossBackward>)\n",
      "tensor(0.0107, grad_fn=<MseLossBackward>)\n",
      "tensor(0.0189, grad_fn=<MseLossBackward>)\n",
      "tensor(0.0125, grad_fn=<MseLossBackward>)\n",
      "tensor(0.0269, grad_fn=<MseLossBackward>)\n",
      "tensor(0.0074, grad_fn=<MseLossBackward>)\n",
      "tensor(0.0358, grad_fn=<MseLossBackward>)\n",
      "tensor(0.0320, grad_fn=<MseLossBackward>)\n",
      "tensor(0.0144, grad_fn=<MseLossBackward>)\n",
      "tensor(0.0291, grad_fn=<MseLossBackward>)\n",
      "tensor(0.0219, grad_fn=<MseLossBackward>)\n",
      "tensor(0.0238, grad_fn=<MseLossBackward>)\n",
      "tensor(0.0186, grad_fn=<MseLossBackward>)\n",
      "tensor(0.0320, grad_fn=<MseLossBackward>)\n",
      "tensor(0.0214, grad_fn=<MseLossBackward>)\n",
      "tensor(0.0277, grad_fn=<MseLossBackward>)\n",
      "tensor(0.0102, grad_fn=<MseLossBackward>)\n",
      "tensor(0.0464, grad_fn=<MseLossBackward>)\n",
      "tensor(0.0242, grad_fn=<MseLossBackward>)\n",
      "tensor(0.0269, grad_fn=<MseLossBackward>)\n",
      "tensor(0.0183, grad_fn=<MseLossBackward>)\n",
      "tensor(0.0240, grad_fn=<MseLossBackward>)\n",
      "tensor(0.0528, grad_fn=<MseLossBackward>)\n",
      "tensor(0.0178, grad_fn=<MseLossBackward>)\n",
      "tensor(0.0247, grad_fn=<MseLossBackward>)\n",
      "mysterious_function(1.3019319772720337) = 0.9640731811523438, but MyNet says 0.8065319061279297 which is wrong by 0.15754127502441406.\n",
      "mysterious_function(-0.18531018495559692) = -0.18425141274929047, but MyNet says -0.17257937788963318 which is wrong by 0.011672034859657288.\n",
      "mysterious_function(1.0357341766357422) = 0.8602369427680969, but MyNet says 0.7116668820381165 which is wrong by 0.14857006072998047.\n",
      "mysterious_function(1.5524685382843018) = 0.999832034111023, but MyNet says 0.8997153043746948 which is wrong by 0.10011672973632812.\n",
      "mysterious_function(1.734289526939392) = 0.9866647124290466, but MyNet says 0.9642265439033508 which is wrong by 0.0224381685256958.\n",
      "mysterious_function(-0.7181773781776428) = -0.6580133438110352, but MyNet says -0.596586287021637 which is wrong by 0.06142705678939819.\n",
      "mysterious_function(0.9128597974777222) = 0.7912557125091553, but MyNet says 0.6708072423934937 which is wrong by 0.12044847011566162.\n",
      "mysterious_function(-0.5981283187866211) = -0.5630967020988464, but MyNet says -0.5331883430480957 which is wrong by 0.029908359050750732.\n",
      "mysterious_function(0.6107736229896545) = 0.5735014081001282, but MyNet says 0.515632152557373 which is wrong by 0.05786925554275513.\n",
      "mysterious_function(-0.5944694876670837) = -0.5600693225860596, but MyNet says -0.5305616855621338 which is wrong by 0.02950763702392578.\n",
      "mysterious_function(-1.0088520050048828) = -0.8462207317352295, but MyNet says -0.7411577701568604 which is wrong by 0.10506296157836914.\n",
      "mysterious_function(-0.08753875643014908) = -0.08742699772119522, but MyNet says -0.08541072905063629 which is wrong by 0.0020162686705589294.\n",
      "mysterious_function(-0.5802822113037109) = -0.548259973526001, but MyNet says -0.5203768014907837 which is wrong by 0.027883172035217285.\n",
      "mysterious_function(-0.1157936230301857) = -0.11553503572940826, but MyNet says -0.11060154438018799 which is wrong by 0.004933491349220276.\n",
      "mysterious_function(0.7659260034561157) = 0.6932047009468079, but MyNet says 0.6179547309875488 which is wrong by 0.07524996995925903.\n",
      "mysterious_function(-0.057567596435546875) = -0.0575358048081398, but MyNet says -0.05868983268737793 which is wrong by 0.0011540278792381287.\n",
      "mysterious_function(-1.3303333520889282) = -0.9712278246879578, but MyNet says -0.8450236916542053 which is wrong by 0.12620413303375244.\n",
      "mysterious_function(0.6775022745132446) = 0.6268488764762878, but MyNet says 0.5596394538879395 which is wrong by 0.06720942258834839.\n",
      "mysterious_function(0.8678892254829407) = 0.7629661560058594, but MyNet says 0.655853271484375 which is wrong by 0.10711288452148438.\n",
      "mysterious_function(3.0927646160125732) = 0.048808638006448746, but MyNet says 1.4462230205535889 which is wrong by 1.3974143266677856.\n",
      "mysterious_function(-0.13941030204296112) = -0.13895916938781738, but MyNet says -0.13165712356567383 which is wrong by 0.007302045822143555.\n",
      "mysterious_function(-0.7342943549156189) = -0.6700634956359863, but MyNet says -0.6046023368835449 which is wrong by 0.0654611587524414.\n",
      "mysterious_function(0.4713609516620636) = 0.45409923791885376, but MyNet says 0.40878966450691223 which is wrong by 0.04530957341194153.\n",
      "mysterious_function(0.3776071071624756) = 0.36869722604751587, but MyNet says 0.33515045046806335 which is wrong by 0.033546775579452515.\n",
      "mysterious_function(-0.09016253799200058) = -0.0900404304265976, but MyNet says -0.08775000274181366 which is wrong by 0.0022904276847839355.\n",
      "mysterious_function(1.5121701955795288) = 0.9982819557189941, but MyNet says 0.8854172229766846 which is wrong by 0.11286473274230957.\n",
      "mysterious_function(-0.5392282605171204) = -0.5134739279747009, but MyNet says -0.4860020875930786 which is wrong by 0.027471840381622314.\n",
      "mysterious_function(-0.7221837639808655) = -0.6610248684883118, but MyNet says -0.598578929901123 which is wrong by 0.06244593858718872.\n",
      "mysterious_function(0.7609451413154602) = 0.6896061897277832, but MyNet says 0.614669919013977 which is wrong by 0.07493627071380615.\n",
      "mysterious_function(0.6181380748748779) = 0.5795187950134277, but MyNet says 0.520488977432251 which is wrong by 0.05902981758117676.\n",
      "mysterious_function(-0.3461305499076843) = -0.33926039934158325, but MyNet says -0.315959632396698 which is wrong by 0.023300766944885254.\n",
      "mysterious_function(-0.4177914559841156) = -0.4057428538799286, but MyNet says -0.37913328409194946 which is wrong by 0.026609569787979126.\n",
      "mysterious_function(-0.631770133972168) = -0.5905741453170776, but MyNet says -0.5536103248596191 which is wrong by 0.036963820457458496.\n",
      "mysterious_function(-1.7843658924102783) = -0.9772805571556091, but MyNet says -0.9854854345321655 which is wrong by 0.008204877376556396.\n",
      "mysterious_function(-0.13614769279956818) = -0.13572748005390167, but MyNet says -0.1287483274936676 which is wrong by 0.00697915256023407.\n",
      "mysterious_function(0.7013369798660278) = 0.6452397108078003, but MyNet says 0.5753583908081055 which is wrong by 0.06988131999969482.\n",
      "mysterious_function(0.9944870471954346) = 0.8384795188903809, but MyNet says 0.6979507207870483 which is wrong by 0.14052879810333252.\n",
      "mysterious_function(1.1224054098129272) = 0.9011458158493042, but MyNet says 0.7404875755310059 which is wrong by 0.16065824031829834.\n",
      "mysterious_function(0.6285529732704163) = 0.5879749059677124, but MyNet says 0.5273575186729431 which is wrong by 0.06061738729476929.\n",
      "mysterious_function(0.955122172832489) = 0.8163843154907227, but MyNet says 0.6848608255386353 which is wrong by 0.1315234899520874.\n",
      "mysterious_function(-0.14635039865970612) = -0.14582853019237518, but MyNet says -0.13784462213516235 which is wrong by 0.00798390805721283.\n",
      "mysterious_function(1.886666178703308) = 0.9505265355110168, but MyNet says 1.0182908773422241 which is wrong by 0.06776434183120728.\n",
      "mysterious_function(0.34688669443130493) = 0.3399716019630432, but MyNet says 0.31102102994918823 which is wrong by 0.02895057201385498.\n",
      "mysterious_function(0.04312845319509506) = 0.04311508312821388, but MyNet says 0.043095335364341736 which is wrong by 1.9747763872146606e-05.\n",
      "mysterious_function(-0.25136351585388184) = -0.24872486293315887, but MyNet says -0.23146957159042358 which is wrong by 0.01725529134273529.\n",
      "mysterious_function(1.485788106918335) = 0.9963889718055725, but MyNet says 0.8760566115379333 which is wrong by 0.12033236026763916.\n",
      "mysterious_function(0.9672026038169861) = 0.8233011364936829, but MyNet says 0.6888779401779175 which is wrong by 0.13442319631576538.\n",
      "mysterious_function(-0.8493767976760864) = -0.7508689761161804, but MyNet says -0.6618403196334839 which is wrong by 0.08902865648269653.\n",
      "mysterious_function(0.7791412472724915) = 0.7026686668395996, but MyNet says 0.6262212991714478 which is wrong by 0.07644736766815186.\n",
      "mysterious_function(0.10103597491979599) = 0.10086416453123093, but MyNet says 0.10170549154281616 which is wrong by 0.0008413270115852356.\n",
      "mysterious_function(-0.40695881843566895) = -0.3958183526992798, but MyNet says -0.36960017681121826 which is wrong by 0.026218175888061523.\n",
      "mysterious_function(0.29569974541664124) = 0.29140928387641907, but MyNet says 0.2708160877227783 which is wrong by 0.020593196153640747.\n",
      "mysterious_function(-0.3551374077796936) = -0.3477191925048828, but MyNet says -0.32398974895477295 which is wrong by 0.023729443550109863.\n",
      "mysterious_function(0.22310814261436462) = 0.22126179933547974, but MyNet says 0.209867924451828 which is wrong by 0.011393874883651733.\n",
      "mysterious_function(2.7496256828308105) = 0.3820069432258606, but MyNet says 1.3244750499725342 which is wrong by 0.9424681067466736.\n",
      "mysterious_function(0.5560717582702637) = 0.5278539061546326, but MyNet says 0.47532594203948975 which is wrong by 0.05252796411514282.\n",
      "mysterious_function(-0.6926252841949463) = -0.6385596990585327, but MyNet says -0.5838775634765625 which is wrong by 0.054682135581970215.\n",
      "mysterious_function(0.5500866770744324) = 0.5227611064910889, but MyNet says 0.4706249535083771 which is wrong by 0.05213615298271179.\n",
      "mysterious_function(0.695580780506134) = 0.6408314108848572, but MyNet says 0.5715621709823608 which is wrong by 0.06926923990249634.\n",
      "mysterious_function(-0.9031046032905579) = -0.7852529883384705, but MyNet says -0.6885626912117004 which is wrong by 0.09669029712677002.\n",
      "mysterious_function(-2.3806655406951904) = -0.6895931363105774, but MyNet says -1.1958725452423096 which is wrong by 0.5062794089317322.\n",
      "mysterious_function(0.029022568836808205) = 0.029018495231866837, but MyNet says 0.028669089078903198 which is wrong by 0.0003494061529636383.\n",
      "mysterious_function(0.26945042610168457) = 0.2662017345428467, but MyNet says 0.25008460879325867 which is wrong by 0.016117125749588013.\n",
      "mysterious_function(0.27268555760383606) = 0.26931872963905334, but MyNet says 0.2527395784854889 which is wrong by 0.016579151153564453.\n",
      "mysterious_function(0.027508748695254326) = 0.02750527858734131, but MyNet says 0.027131736278533936 which is wrong by 0.00037354230880737305.\n",
      "mysterious_function(-0.7213595509529114) = -0.6604061722755432, but MyNet says -0.5981689691543579 which is wrong by 0.0622372031211853.\n",
      "mysterious_function(-0.8383795022964478) = -0.7435604929924011, but MyNet says -0.6563706398010254 which is wrong by 0.08718985319137573.\n",
      "mysterious_function(-1.504215121269226) = -0.9977842569351196, but MyNet says -0.8988165855407715 which is wrong by 0.09896767139434814.\n",
      "mysterious_function(-1.111977458000183) = -0.8965762257575989, but MyNet says -0.7774720788002014 which is wrong by 0.11910414695739746.\n",
      "mysterious_function(-0.5627070665359497) = -0.5334778428077698, but MyNet says -0.5066642761230469 which is wrong by 0.0268135666847229.\n",
      "mysterious_function(0.993349552154541) = 0.8378591537475586, but MyNet says 0.6975725889205933 which is wrong by 0.14028656482696533.\n",
      "mysterious_function(0.23389603197574615) = 0.23176921904087067, but MyNet says 0.21922987699508667 which is wrong by 0.012539342045783997.\n",
      "mysterious_function(0.17199765145778656) = 0.17115086317062378, but MyNet says 0.165513277053833 which is wrong by 0.0056375861167907715.\n",
      "mysterious_function(-0.3342626690864563) = -0.328072726726532, but MyNet says -0.3053787648677826 which is wrong by 0.02269396185874939.\n",
      "mysterious_function(0.024196553975343704) = 0.02419419214129448, but MyNet says 0.023768067359924316 which is wrong by 0.00042612478137016296.\n",
      "mysterious_function(0.5399094820022583) = 0.5140583515167236, but MyNet says 0.46263134479522705 which is wrong by 0.05142700672149658.\n",
      "mysterious_function(-0.4956696629524231) = -0.475620836019516, but MyNet says -0.4476689100265503 which is wrong by 0.027951925992965698.\n",
      "mysterious_function(-0.4451020359992981) = -0.4305499792098999, but MyNet says -0.40316760540008545 which is wrong by 0.027382373809814453.\n",
      "mysterious_function(-0.7292055487632751) = -0.6662774085998535, but MyNet says -0.6020712852478027 which is wrong by 0.06420612335205078.\n",
      "mysterious_function(-0.6303153038024902) = -0.589399516582489, but MyNet says -0.5528867244720459 which is wrong by 0.036512792110443115.\n",
      "mysterious_function(-1.235679268836975) = -0.9443718194961548, but MyNet says -0.8157410621643066 which is wrong by 0.12863075733184814.\n",
      "mysterious_function(-0.28811097145080566) = -0.28414157032966614, but MyNet says -0.26423195004463196 which is wrong by 0.01990962028503418.\n",
      "mysterious_function(0.4616803228855133) = 0.44545313715934753, but MyNet says 0.4011859893798828 which is wrong by 0.04426714777946472.\n",
      "mysterious_function(1.4231594800949097) = 0.9891214370727539, but MyNet says 0.8538355827331543 which is wrong by 0.1352858543395996.\n",
      "mysterious_function(0.4813295900821686) = 0.46295809745788574, but MyNet says 0.41661959886550903 which is wrong by 0.04633849859237671.\n",
      "mysterious_function(0.9131919741630554) = 0.791458785533905, but MyNet says 0.6709176301956177 which is wrong by 0.12054115533828735.\n",
      "mysterious_function(2.900540828704834) = 0.23872417211532593, but MyNet says 1.3780207633972168 which is wrong by 1.139296531677246.\n",
      "mysterious_function(-0.63731849193573) = -0.5950424671173096, but MyNet says -0.5563699007034302 which is wrong by 0.038672566413879395.\n",
      "mysterious_function(-0.29992344975471497) = -0.29544708132743835, but MyNet says -0.27476346492767334 which is wrong by 0.020683616399765015.\n",
      "mysterious_function(-0.5442090630531311) = -0.5177415609359741, but MyNet says -0.49038535356521606 which is wrong by 0.027356207370758057.\n",
      "mysterious_function(0.16083654761314392) = 0.16014401614665985, but MyNet says 0.15582746267318726 which is wrong by 0.004316553473472595.\n",
      "mysterious_function(0.9208151698112488) = 0.7960951924324036, but MyNet says 0.6734527349472046 which is wrong by 0.12264245748519897.\n",
      "mysterious_function(-0.8520863056182861) = -0.7526556849479675, but MyNet says -0.6631879210472107 which is wrong by 0.08946776390075684.\n",
      "mysterious_function(-0.8330439925193787) = -0.7399822473526001, but MyNet says -0.6537169814109802 which is wrong by 0.08626526594161987.\n",
      "mysterious_function(0.42607900500297546) = 0.41330355405807495, but MyNet says 0.37322282791137695 which is wrong by 0.040080726146698.\n",
      "mysterious_function(0.3848871886730194) = 0.3754545748233795, but MyNet says 0.34086862206459045 which is wrong by 0.03458595275878906.\n",
      "mysterious_function(-0.13182009756565094) = -0.13143867254257202, but MyNet says -0.12489005923271179 which is wrong by 0.0065486133098602295.\n",
      "mysterious_function(-0.15646091103553772) = -0.15582333505153656, but MyNet says -0.14685869216918945 which is wrong by 0.008964642882347107.\n",
      "mysterious_function(-0.3439486622810364) = -0.3372071087360382, but MyNet says -0.31401437520980835 which is wrong by 0.02319273352622986.\n",
      "mysterious_function(-0.3284142315387726) = -0.3225424289703369, but MyNet says -0.30016452074050903 which is wrong by 0.02237790822982788.\n",
      "Average loss is 0.09184921532869339.\n"
     ]
    }
   ],
   "source": [
    "num_steps = 100\n",
    "learning_rate = 0.01\n",
    "batch_size = 256\n",
    "\n",
    "model = train(num_steps, learning_rate, batch_size)\n",
    "\n",
    "model.eval()\n",
    "x, y = getdata(100)\n",
    "y_model = model(x)\n",
    "for i in range(100):\n",
    "    print('mysterious_function({}) = {}, but MyNet says {} which is wrong by {}.'.format(\n",
    "        float(x[i]),\n",
    "        float(y[i]),\n",
    "        float(y_model[i]),\n",
    "        float((y[i] - y_model[i]).abs())\n",
    "        ))\n",
    "print('Average loss is {}.'.format(float((y - y_model).abs().mean())))"
   ]
  },
  {
   "cell_type": "code",
   "execution_count": 21,
   "metadata": {
    "scrolled": true
   },
   "outputs": [
    {
     "data": {
      "image/png": "[encoded data removed]",
      "text/plain": [
       "<Figure size 432x288 with 1 Axes>"
      ]
     },
     "metadata": {
      "needs_background": "light"
     },
     "output_type": "display_data"
    }
   ],
   "source": [
    "import numpy as np\n",
    "\n",
    "data = torch.cat([x, y, y_model], dim = 1).detach().numpy()\n",
    "indices = data[:, 0].argsort(0)\n",
    "data = np.array([data[i, :] for i in indices])\n",
    "data = data.T\n",
    "plt.plot(data[0], data[1], '-o', label='data')\n",
    "plt.plot(data[0], data[2], '-o', label='prediction')\n",
    "plt.show()"
   ]
  }
 ],
 "metadata": {
  "kernelspec": {
   "display_name": "Python 3",
   "language": "python",
   "name": "python3"
  },
  "language_info": {
   "codemirror_mode": {
    "name": "ipython",
    "version": 3
   },
   "file_extension": ".py",
   "mimetype": "text/x-python",
   "name": "python",
   "nbconvert_exporter": "python",
   "pygments_lexer": "ipython3",
   "version": "3.7.3"
  }
 },
 "nbformat": 4,
 "nbformat_minor": 2
}
