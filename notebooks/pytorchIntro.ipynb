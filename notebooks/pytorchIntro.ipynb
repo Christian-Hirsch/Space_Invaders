{
 "cells": [
  {
   "cell_type": "markdown",
   "metadata": {},
   "source": [
    "# Pytorch\n",
    "\n",
    "In this notebook we will learn how to train a neural network with [pytorch](https://pytorch.org/docs/stable/index.html), a great Python library for Deep Learning.\n",
    "\n",
    "As an example, we want to learn the following mysterious function:"
   ]
  },
  {
   "cell_type": "code",
   "execution_count": 28,
   "metadata": {},
   "outputs": [],
   "source": [
    "import torch\n",
    "import torch.nn as nn\n",
    "import matplotlib.pyplot as plt\n",
    "\n",
    "def mysterious_function(x):\n",
    "    return torch.sin(x)"
   ]
  },
  {
   "cell_type": "markdown",
   "metadata": {},
   "source": [
    "Here is a small function to generate a batch of size ``num_samples``:"
   ]
  },
  {
   "cell_type": "code",
   "execution_count": 29,
   "metadata": {},
   "outputs": [
    {
     "name": "stdout",
     "output_type": "stream",
     "text": [
      "tensor([[-1.0591],\n",
      "        [-2.1062],\n",
      "        [ 1.1026],\n",
      "        [-0.2818],\n",
      "        [ 0.7492],\n",
      "        [ 0.9803],\n",
      "        [-1.0115],\n",
      "        [-0.2054],\n",
      "        [ 1.9333],\n",
      "        [-0.8107]])\n",
      "tensor([[-0.8719],\n",
      "        [-0.8601],\n",
      "        [ 0.8924],\n",
      "        [-0.2781],\n",
      "        [ 0.6811],\n",
      "        [ 0.8306],\n",
      "        [-0.8476],\n",
      "        [-0.2039],\n",
      "        [ 0.9350],\n",
      "        [-0.7248]])\n"
     ]
    }
   ],
   "source": [
    "def getdata(num_samples):\n",
    "    x = torch.randn(num_samples,1)\n",
    "    y = mysterious_function(x)\n",
    "    return x, y\n",
    "\n",
    "x, y = getdata(10)\n",
    "print(x)\n",
    "print(y)"
   ]
  },
  {
   "cell_type": "markdown",
   "metadata": {},
   "source": [
    "**Remark**: The variables x and y in this function have the data type ``torch.Tensor``. Tensors are in most aspects very similar to numpy arrays, but they can also store gradients. More on this later."
   ]
  },
  {
   "cell_type": "markdown",
   "metadata": {},
   "source": [
    "Next we define the class with our neural network. This class should always inherit ``nn.Module`` (the base class for all neural networks) and has to define the two functions ``__init__`` and ``forward``.\n",
    "\n",
    "The net we are using here contains one linear layer with 1 input and 20 output nodes, followed by a ReLU layer and finally another linear layer with 20 input nodes and 1 output node. We use ``add_module`` to add these layers to our net with the first parameter being the name of the layer added.\n",
    "\n",
    "The ``forward`` function describes the forward pass through the network. In our case we just call the layers defined in ``__init__`` in the right order.\n",
    "\n",
    "(**Tip**: In this case we could also have saved the definition of the class and instead used ``nn.Sequential``, but we do it anyways for educational purposes.)"
   ]
  },
  {
   "cell_type": "code",
   "execution_count": 30,
   "metadata": {},
   "outputs": [],
   "source": [
    "class MyNet(nn.Module):\n",
    "    def __init__(self):\n",
    "        super(MyNet, self).__init__()\n",
    "        self.add_module('hidden', nn.Linear(1, 20))\n",
    "        self.add_module('relu', nn.ReLU())\n",
    "        self.add_module('out', nn.Linear(20,1))\n",
    "\n",
    "    def forward(self, x):\n",
    "        x = self.hidden(x)\n",
    "        x = self.relu(x)\n",
    "        x = self.out(x)\n",
    "        return x"
   ]
  },
  {
   "cell_type": "markdown",
   "metadata": {},
   "source": [
    "Now comes the heart of our little program - the training loop.\n",
    "For this we first need to choose an optimizing strategy and a loss function (here SGD and L1).\n",
    "And this is what it looks like:"
   ]
  },
  {
   "cell_type": "code",
   "execution_count": 31,
   "metadata": {},
   "outputs": [],
   "source": [
    "def train(num_steps, learning_rate, batch_size):\n",
    "    model = MyNet()\n",
    "    optimizer = torch.optim.SGD(model.parameters(), lr = learning_rate)\n",
    "    loss_fn = nn.L1Loss()\n",
    "    model.train()\n",
    "\n",
    "    for step in range(num_steps):\n",
    "        optimizer.zero_grad()\n",
    "        x, y = getdata(batch_size)\n",
    "        y_model = model(x)\n",
    "        loss = loss_fn(y_model, y)\n",
    "        loss.backward()\n",
    "        optimizer.step()\n",
    "\n",
    "    return model"
   ]
  },
  {
   "cell_type": "markdown",
   "metadata": {},
   "source": [
    "Ok, let us go through this part step by step:\n",
    "\n",
    "First we pick an optimization strategy and a loss function (here SGD and L1). Here, ``model.parameters()`` returns an iterator over all parameters of ``model``. (By the way, this is why we used ``add_module`` instead of ``self.hidden = ...`` etc. earlier.)\n",
    "\n",
    "``optimizer.zero_grad()`` initializes all gradients of all parameters to zero.\n",
    "\n",
    "``model(x)`` calls the ``forward`` function of ``model`` and at the same time builds the computation graph dynamically.\n",
    "\n",
    "``loss.backward()`` then iterates backwards through the computation graph and computes the gradients (which are stored in the model parameters).\n",
    "\n",
    "And finally ``optimizer.step()`` executes one learning step with the current gradients."
   ]
  },
  {
   "cell_type": "markdown",
   "metadata": {},
   "source": [
    "We can now set our hyperparameters and call our training function.\n",
    "We also added a small test output for good measure."
   ]
  },
  {
   "cell_type": "code",
   "execution_count": 32,
   "metadata": {},
   "outputs": [
    {
     "name": "stdout",
     "output_type": "stream",
     "text": [
      "mysterious_function(0.004012155346572399) = 0.004012144636362791, but MyNet says 0.004558369517326355 which is wrong by 0.0005462248809635639.\n",
      "mysterious_function(-1.7305198907852173) = -0.9872713088989258, but MyNet says -1.3503772020339966 which is wrong by 0.3631058931350708.\n",
      "mysterious_function(-0.16586999595165253) = -0.16511045396327972, but MyNet says -0.13997069001197815 which is wrong by 0.025139763951301575.\n",
      "mysterious_function(-0.6521392464637756) = -0.6068880558013916, but MyNet says -0.5288702249526978 which is wrong by 0.07801783084869385.\n",
      "mysterious_function(-0.2710886597633362) = -0.26778051257133484, but MyNet says -0.2294866144657135 which is wrong by 0.03829389810562134.\n",
      "mysterious_function(-0.09438181668519974) = -0.09424175322055817, but MyNet says -0.07915136218070984 which is wrong by 0.015090391039848328.\n",
      "mysterious_function(0.2886490523815155) = 0.28465741872787476, but MyNet says 0.25995349884033203 which is wrong by 0.024703919887542725.\n",
      "mysterious_function(0.08496501296758652) = 0.08486282080411911, but MyNet says 0.0734298825263977 which is wrong by 0.011432938277721405.\n",
      "mysterious_function(0.2625066041946411) = 0.259502112865448, but MyNet says 0.23659221827983856 which is wrong by 0.022909894585609436.\n",
      "mysterious_function(0.10837087780237198) = 0.10815887898206711, but MyNet says 0.09511006623506546 which is wrong by 0.013048812747001648.\n",
      "mysterious_function(0.884219229221344) = 0.7734202742576599, but MyNet says 0.7733081579208374 which is wrong by 0.00011211633682250977.\n",
      "mysterious_function(-0.6919441819190979) = -0.6380354166030884, but MyNet says -0.5601425170898438 which is wrong by 0.07789289951324463.\n",
      "mysterious_function(1.0280195474624634) = 0.8562777042388916, but MyNet says 0.853772759437561 which is wrong by 0.0025049448013305664.\n",
      "mysterious_function(-0.6660453677177429) = -0.6178814172744751, but MyNet says -0.5397955179214478 which is wrong by 0.07808589935302734.\n",
      "mysterious_function(-0.014509624801576138) = -0.014509115368127823, but MyNet says -0.011199243366718292 which is wrong by 0.0033098720014095306.\n",
      "mysterious_function(2.3342413902282715) = 0.7224583625793457, but MyNet says 1.3788158893585205 which is wrong by 0.6563575267791748.\n",
      "mysterious_function(-0.0182927418500185) = -0.018291721120476723, but MyNet says -0.014417760074138641 which is wrong by 0.0038739610463380814.\n",
      "mysterious_function(0.8905664682388306) = 0.777428150177002, but MyNet says 0.7768597602844238 which is wrong by 0.000568389892578125.\n",
      "mysterious_function(0.5288984179496765) = 0.5045825839042664, but MyNet says 0.474643737077713 which is wrong by 0.029938846826553345.\n",
      "mysterious_function(-0.6342608332633972) = -0.5925822854042053, but MyNet says -0.5148242712020874 which is wrong by 0.07775801420211792.\n",
      "mysterious_function(-0.37715205550193787) = -0.36827418208122253, but MyNet says -0.3197212219238281 which is wrong by 0.04855296015739441.\n",
      "mysterious_function(-0.7713282108306885) = -0.6970881819725037, but MyNet says -0.6225097179412842 which is wrong by 0.07457846403121948.\n",
      "mysterious_function(1.80097496509552) = 0.973625659942627, but MyNet says 1.182059407234192 which is wrong by 0.20843374729156494.\n",
      "mysterious_function(-0.24507789313793182) = -0.24263189733028412, but MyNet says -0.20735770463943481 which is wrong by 0.035274192690849304.\n",
      "mysterious_function(-0.8142017126083374) = -0.7271778583526611, but MyNet says -0.6561927795410156 which is wrong by 0.07098507881164551.\n",
      "mysterious_function(-2.3179378509521484) = -0.7336342930793762, but MyNet says -1.6870684623718262 which is wrong by 0.95343416929245.\n",
      "mysterious_function(0.7263892889022827) = 0.6641746759414673, but MyNet says 0.650432825088501 which is wrong by 0.013741850852966309.\n",
      "mysterious_function(0.22769464552402496) = 0.22573226690292358, but MyNet says 0.20548373460769653 which is wrong by 0.02024853229522705.\n",
      "mysterious_function(1.561790108680725) = 0.9999594688415527, but MyNet says 1.0819803476333618 which is wrong by 0.08202087879180908.\n",
      "mysterious_function(-1.4973161220550537) = -0.9973015189170837, but MyNet says -1.1803594827651978 which is wrong by 0.183057963848114.\n",
      "mysterious_function(-0.30212822556495667) = -0.2975527048110962, but MyNet says -0.25589388608932495 which is wrong by 0.04165881872177124.\n",
      "mysterious_function(-1.3303290605545044) = -0.9712268114089966, but MyNet says -1.0586169958114624 which is wrong by 0.08739018440246582.\n",
      "mysterious_function(1.5325711965560913) = 0.9992694854736328, but MyNet says 1.069754719734192 which is wrong by 0.07048523426055908.\n",
      "mysterious_function(0.05306948348879814) = 0.053044576197862625, but MyNet says 0.046294428408145905 which is wrong by 0.006750147789716721.\n",
      "mysterious_function(1.6583778858184814) = 0.9961671829223633, but MyNet says 1.1223944425582886 which is wrong by 0.1262272596359253.\n",
      "mysterious_function(-1.8533390760421753) = -0.9603496193885803, but MyNet says -1.434583306312561 which is wrong by 0.4742336869239807.\n",
      "mysterious_function(0.18922539055347443) = 0.18809816241264343, but MyNet says 0.17110708355903625 which is wrong by 0.016991078853607178.\n",
      "mysterious_function(0.16026702523231506) = 0.15958181023597717, but MyNet says 0.14447972178459167 which is wrong by 0.015102088451385498.\n",
      "mysterious_function(0.7622297406196594) = 0.6905359029769897, but MyNet says 0.6805644035339355 which is wrong by 0.0099714994430542.\n",
      "mysterious_function(-0.2539352774620056) = -0.25121498107910156, but MyNet says -0.2148931920528412 which is wrong by 0.036321789026260376.\n",
      "mysterious_function(1.5721529722213745) = 0.9999991059303284, but MyNet says 1.086316466331482 which is wrong by 0.08631736040115356.\n",
      "mysterious_function(0.8413787484169006) = 0.7455626726150513, but MyNet says 0.7471058368682861 which is wrong by 0.0015431642532348633.\n",
      "mysterious_function(-0.013908998109400272) = -0.013908549211919308, but MyNet says -0.010688260197639465 which is wrong by 0.0032202890142798424.\n",
      "mysterious_function(1.163120150566101) = 0.9180446267127991, but MyNet says 0.9151699542999268 which is wrong by 0.0028746724128723145.\n",
      "mysterious_function(-0.6108697056770325) = -0.5735800862312317, but MyNet says -0.49696794152259827 which is wrong by 0.07661214470863342.\n",
      "mysterious_function(-0.037304628640413284) = -0.037295978516340256, but MyNet says -0.03059236705303192 which is wrong by 0.006703611463308334.\n",
      "mysterious_function(1.7176923751831055) = 0.9892301559448242, but MyNet says 1.1472126245498657 which is wrong by 0.1579824686050415.\n",
      "mysterious_function(-1.196884274482727) = -0.9309055805206299, but MyNet says -0.9568431377410889 which is wrong by 0.025937557220458984.\n",
      "mysterious_function(-0.7570905089378357) = -0.6868095993995667, but MyNet says -0.6113239526748657 which is wrong by 0.07548564672470093.\n",
      "mysterious_function(0.7392892837524414) = 0.6737629175186157, but MyNet says 0.6612780094146729 which is wrong by 0.012484908103942871.\n",
      "mysterious_function(0.06918146461248398) = 0.06912629306316376, but MyNet says 0.06000187247991562 which is wrong by 0.009124420583248138.\n",
      "mysterious_function(0.23787128925323486) = 0.23563438653945923, but MyNet says 0.21457776427268982 which is wrong by 0.02105662226676941.\n",
      "mysterious_function(-1.2892776727676392) = -0.9606346487998962, but MyNet says -1.0286883115768433 which is wrong by 0.06805366277694702.\n",
      "mysterious_function(-0.8952010273933411) = -0.7803348302841187, but MyNet says -0.7198290824890137 which is wrong by 0.06050574779510498.\n",
      "mysterious_function(0.7337343692779541) = 0.669647753238678, but MyNet says 0.656607985496521 which is wrong by 0.013039767742156982.\n",
      "mysterious_function(1.603860855102539) = 0.9994534254074097, but MyNet says 1.099583625793457 which is wrong by 0.10013020038604736.\n",
      "mysterious_function(0.9241810441017151) = 0.7981275916099548, but MyNet says 0.7956690788269043 which is wrong by 0.002458512783050537.\n",
      "mysterious_function(-0.4396437108516693) = -0.4256170988082886, but MyNet says -0.368145227432251 which is wrong by 0.0574718713760376.\n",
      "mysterious_function(0.06991331279277802) = 0.06985637545585632, but MyNet says 0.06062445789575577 which is wrong by 0.009231917560100555.\n",
      "mysterious_function(-1.5175306797027588) = -0.9985817074775696, but MyNet says -1.1950969696044922 which is wrong by 0.1965152621269226.\n",
      "mysterious_function(0.9257903695106506) = 0.7990961670875549, but MyNet says 0.7965695858001709 which is wrong by 0.002526581287384033.\n",
      "mysterious_function(-1.1566036939620972) = -0.9154415726661682, but MyNet says -0.9251972436904907 which is wrong by 0.00975567102432251.\n",
      "mysterious_function(0.4776606857776642) = 0.4597029685974121, but MyNet says 0.4288569986820221 which is wrong by 0.030845969915390015.\n",
      "mysterious_function(0.4658326208591461) = 0.449166864156723, but MyNet says 0.4182872772216797 which is wrong by 0.030879586935043335.\n",
      "mysterious_function(0.7074921727180481) = 0.6499298810958862, but MyNet says 0.6337486505508423 which is wrong by 0.016181230545043945.\n",
      "mysterious_function(1.6220717430114746) = 0.9986857175827026, but MyNet says 1.1072033643722534 which is wrong by 0.10851764678955078.\n",
      "mysterious_function(0.31522029638290405) = 0.3100259304046631, but MyNet says 0.2836979031562805 which is wrong by 0.02632802724838257.\n",
      "mysterious_function(-1.1973974704742432) = -0.9310928583145142, but MyNet says -0.9572463035583496 which is wrong by 0.02615344524383545.\n",
      "mysterious_function(3.270935535430908) = -0.1289825439453125, but MyNet says 1.7394862174987793 which is wrong by 1.8684687614440918.\n",
      "mysterious_function(0.43321195244789124) = 0.4197882115840912, but MyNet says 0.3891369700431824 which is wrong by 0.030651241540908813.\n",
      "mysterious_function(-1.4325882196426392) = -0.990464448928833, but MyNet says -1.133169412612915 which is wrong by 0.14270496368408203.\n",
      "mysterious_function(0.5299143195152283) = 0.5054594278335571, but MyNet says 0.4755515158176422 which is wrong by 0.029907912015914917.\n",
      "mysterious_function(1.14061439037323) = 0.908889889717102, but MyNet says 0.9057532548904419 which is wrong by 0.0031366348266601562.\n",
      "mysterious_function(0.19065701961517334) = 0.18950405716896057, but MyNet says 0.17238637804985046 which is wrong by 0.017117679119110107.\n",
      "mysterious_function(-1.0233228206634521) = -0.8538423776626587, but MyNet says -0.8204865455627441 which is wrong by 0.03335583209991455.\n",
      "mysterious_function(1.1992968320846558) = 0.9317840337753296, but MyNet says 0.9303069114685059 which is wrong by 0.0014771223068237305.\n",
      "mysterious_function(-0.4420248866081238) = -0.42777061462402344, but MyNet says -0.3699314296245575 which is wrong by 0.05783918499946594.\n",
      "mysterious_function(-1.0826176404953003) = -0.8831885457038879, but MyNet says -0.8670707941055298 which is wrong by 0.016117751598358154.\n",
      "mysterious_function(-0.3439461886882782) = -0.33720478415489197, but MyNet says -0.2914709150791168 which is wrong by 0.045733869075775146.\n",
      "mysterious_function(-0.8422492146492004) = -0.7461425065994263, but MyNet says -0.6782280206680298 which is wrong by 0.06791448593139648.\n",
      "mysterious_function(0.1687398999929428) = 0.16794027388095856, but MyNet says 0.15254008769989014 which is wrong by 0.01540018618106842.\n",
      "mysterious_function(-0.6605765223503113) = -0.6135721802711487, but MyNet says -0.535498857498169 which is wrong by 0.07807332277297974.\n",
      "mysterious_function(-1.5465385913848877) = -0.9997057914733887, but MyNet says -1.216245174407959 which is wrong by 0.2165393829345703.\n",
      "mysterious_function(-0.307399719953537) = -0.3025812804698944, but MyNet says -0.2603786289691925 which is wrong by 0.042202651500701904.\n",
      "mysterious_function(-0.29966458678245544) = -0.29519975185394287, but MyNet says -0.25379785895347595 which is wrong by 0.04140189290046692.\n",
      "mysterious_function(0.030235862359404564) = 0.030231256037950516, but MyNet says 0.026868440210819244 which is wrong by 0.0033628158271312714.\n",
      "mysterious_function(1.7409769296646118) = 0.9855542182922363, but MyNet says 1.1569551229476929 which is wrong by 0.17140090465545654.\n",
      "mysterious_function(0.4545559585094452) = 0.4390634000301361, but MyNet says 0.40821030735969543 which is wrong by 0.030853092670440674.\n",
      "mysterious_function(-0.5370811820030212) = -0.5116302967071533, but MyNet says -0.44123610854148865 which is wrong by 0.07039418816566467.\n",
      "mysterious_function(-1.711264729499817) = -0.990150511264801, but MyNet says -1.3363391160964966 which is wrong by 0.34618860483169556.\n",
      "mysterious_function(-0.25345680117607117) = -0.2507518231868744, but MyNet says -0.21448612213134766 which is wrong by 0.03626570105552673.\n",
      "mysterious_function(0.4031113386154175) = 0.3922821879386902, but MyNet says 0.3622385859489441 which is wrong by 0.030043601989746094.\n",
      "mysterious_function(-0.7534294724464417) = -0.6841440796852112, but MyNet says -0.608447790145874 which is wrong by 0.07569628953933716.\n",
      "mysterious_function(-1.3216198682785034) = -0.9691158533096313, but MyNet says -1.0522675514221191 which is wrong by 0.08315169811248779.\n",
      "mysterious_function(-0.3952743411064148) = -0.3850613832473755, but MyNet says -0.3348623812198639 which is wrong by 0.0501990020275116.\n",
      "mysterious_function(0.4950450360774994) = 0.4750712811946869, but MyNet says 0.4443918764591217 which is wrong by 0.030679404735565186.\n",
      "mysterious_function(-2.254605531692505) = -0.7751718759536743, but MyNet says -1.6531022787094116 which is wrong by 0.8779304027557373.\n",
      "mysterious_function(-1.4660754203796387) = -0.9945217967033386, but MyNet says -1.157583236694336 which is wrong by 0.16306143999099731.\n",
      "mysterious_function(1.030186414718628) = 0.8573949337005615, but MyNet says 0.854985237121582 which is wrong by 0.002409696578979492.\n",
      "mysterious_function(-1.1430156230926514) = -0.9098886847496033, but MyNet says -0.9145218133926392 which is wrong by 0.004633128643035889.\n",
      "Average loss is 0.10020402818918228.\n"
     ]
    }
   ],
   "source": [
    "num_steps = 100\n",
    "learning_rate = 0.01\n",
    "batch_size = 256\n",
    "\n",
    "model = train(num_steps, learning_rate, batch_size)\n",
    "\n",
    "model.eval()\n",
    "x, y = getdata(100)\n",
    "y_model = model(x)\n",
    "for i in range(100):\n",
    "    print('mysterious_function({}) = {}, but MyNet says {} which is wrong by {}.'.format(\n",
    "        float(x[i]),\n",
    "        float(y[i]),\n",
    "        float(y_model[i]),\n",
    "        float((y[i] - y_model[i]).abs())\n",
    "        ))\n",
    "print('Average loss is {}.'.format(float((y - y_model).abs().mean())))"
   ]
  },
  {
   "cell_type": "code",
   "execution_count": 33,
   "metadata": {},
   "outputs": [
    {
     "data": {
      "image/png": "[encoded data removed]",
      "text/plain": [
       "<Figure size 432x288 with 1 Axes>"
      ]
     },
     "metadata": {
      "needs_background": "light"
     },
     "output_type": "display_data"
    }
   ],
   "source": [
    "data = torch.cat([x, y, y_model], dim = 1).detach().numpy()\n",
    "data.sort(0)\n",
    "data = data.T\n",
    "plt.plot(data[0], data[1], '-o', label='data')\n",
    "plt.plot(data[0], data[2], '-o', label='prediction')\n",
    "plt.show()"
   ]
  }
 ],
 "metadata": {
  "kernelspec": {
   "display_name": "Python 3",
   "language": "python",
   "name": "python3"
  },
  "language_info": {
   "codemirror_mode": {
    "name": "ipython",
    "version": 3
   },
   "file_extension": ".py",
   "mimetype": "text/x-python",
   "name": "python",
   "nbconvert_exporter": "python",
   "pygments_lexer": "ipython3",
   "version": "3.7.3"
  }
 },
 "nbformat": 4,
 "nbformat_minor": 2
}
