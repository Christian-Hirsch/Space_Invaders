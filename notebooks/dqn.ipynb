{
 "cells": [
  {
   "cell_type": "markdown",
   "metadata": {},
   "source": [
    "# Deep Q-learning"
   ]
  },
  {
   "cell_type": "markdown",
   "metadata": {},
   "source": [
    "In a [previous notebook](./tabular.ipynb), we saw how in small state spaces, simple table-based updates building upon the [Bellman equation](https://en.wikipedia.org/wiki/Bellman_equation) can achieve rapid learning of the optimal $Q$-function. In the present notebook, we consider learning with [Deep Q-Networks (DQN)](https://deepmind.com/research/dqn/) as an alternative for large or continuous state spaces. The crux of the method is to approximate the optimal $Q$-function by an enormously rich function class, namely neural networks."
   ]
  },
  {
   "cell_type": "markdown",
   "metadata": {},
   "source": [
    "The presentation in this notebook uses substantial parts of the code from the wonderful [official pytorch tutorial](https://github.com/jmichaux/dqn-pytorch/blob/master/main.py)."
   ]
  },
  {
   "cell_type": "markdown",
   "metadata": {},
   "source": [
    "## State space"
   ]
  },
  {
   "cell_type": "markdown",
   "metadata": {},
   "source": [
    " In order to illustrate the power of DQN, we work in a different state space than in the [CEM example](./cem.ipynb). Indeed, one of the reasons that CEM could excel in solving the cartpole problem so rapidly, was that the compact state space representation featured already highly non-trivial domain knowledge.  Indeed, just looking at the pictures, it takes a moment of thought to realize that the problem is completely specified by four characteristics."
   ]
  },
  {
   "cell_type": "markdown",
   "metadata": {},
   "source": [
    "In order to avoid relying on non-trivial domain knowledge, we now work on a much larger state space, consisting of pixel representations. First, we reset the environment and define screen characteristics."
   ]
  },
  {
   "cell_type": "code",
   "execution_count": 1,
   "metadata": {},
   "outputs": [],
   "source": [
    "import gym\n",
    "import numpy as np\n",
    "env = gym.make('CartPole-v0')\n",
    "env.reset()\n",
    "\n",
    "scr_height = 400\n",
    "scr_width = 600\n",
    "world_width = env.x_threshold * 2\n",
    "scale = scr_width / world_width\n",
    "view_width = int(scr_width * 0.6)"
   ]
  },
  {
   "cell_type": "markdown",
   "metadata": {},
   "source": [
    "Next, we extract part of the screen centered around the cart."
   ]
  },
  {
   "cell_type": "code",
   "execution_count": 2,
   "metadata": {},
   "outputs": [],
   "source": [
    "import torch\n",
    "import torchvision.transforms as T\n",
    "device = torch.device(\"cuda\" if torch.cuda.is_available() else \"cpu\")\n",
    "\n",
    "\n",
    "def get_screen():\n",
    "    screen = env.render(mode = 'rgb_array').transpose((2, 0, 1))\n",
    "    screen = screen[:, int(scr_height * 0.4):int(scr_height * 0.8)]\n",
    "\n",
    "    #determine pixel region dependent on cart location\n",
    "    cart_loc = int(env.state[0] * scale + scr_width / 2.0)\n",
    "    if cart_loc < view_width // 2:\n",
    "            slice_range = slice(view_width)\n",
    "    elif cart_loc > scr_width - view_width // 2:\n",
    "        slice_range = slice(-view_width, None)\n",
    "    else:\n",
    "        slice_range = slice(cart_loc - view_width // 2,\n",
    "                            cart_loc + view_width // 2)\n",
    "    # Strip off the edges, so that we have a square image centered on a cart\n",
    "    screen = screen[:, :, slice_range]\n",
    "    # Convert to float, rescale, convert to torch tensor\n",
    "    # (this doesn't require a copy)\n",
    "    screen = np.ascontiguousarray(screen, dtype = np.float32) / 255\n",
    "    screen = torch.from_numpy(screen)\n",
    "    resize = T.Compose([T.ToPILImage(),\n",
    "                        T.Resize(40, interpolation=Image.CUBIC),\n",
    "                        T.ToTensor()])\n",
    "    return resize(screen).unsqueeze(0).to(device)"
   ]
  },
  {
   "cell_type": "markdown",
   "metadata": {},
   "source": [
    "Let's visualize an example of an extracted screen."
   ]
  },
  {
   "cell_type": "code",
   "execution_count": 3,
   "metadata": {},
   "outputs": [
    {
     "data": {
      "image/png": "[encoded data removed]",
      "text/plain": [
       "<Figure size 432x288 with 1 Axes>"
      ]
     },
     "metadata": {
      "needs_background": "light"
     },
     "output_type": "display_data"
    }
   ],
   "source": [
    "%matplotlib inline\n",
    "import matplotlib.pyplot as plt\n",
    "from PIL import Image\n",
    "\n",
    "env.reset()\n",
    "plt.figure()\n",
    "plt.imshow(get_screen().cpu().squeeze(0).permute(1, 2, 0).numpy(),\n",
    "           interpolation='none')\n",
    "plt.title('Example extracted screen')\n",
    "plt.show()"
   ]
  },
  {
   "cell_type": "markdown",
   "metadata": {},
   "source": [
    "## Policy and Target Networks"
   ]
  },
  {
   "cell_type": "markdown",
   "metadata": {},
   "source": [
    "In [CEM](./cem.ipynb), we approximated the Q function linearly. This worked nicely, since we relied on a compact representation of the state space as a 4-dimensional vector. Working now directly on pixel space, it seems difficult to estimate the parameters of a linear approximation reasonably well. Therefore, we turn to a more sophisticated function represented by a convolutional neural network."
   ]
  },
  {
   "cell_type": "code",
   "execution_count": null,
   "metadata": {},
   "outputs": [],
   "source": [
    "import torch.nn as nn\n",
    "import torch.nn.functional as F\n",
    "\n",
    "class DQN(nn.Module):\n",
    "    def __init__(self,\n",
    "                h,\n",
    "                w,\n",
    "                outputs):\n",
    "        \"\"\"Initialize the CNN\n",
    "    \n",
    "        # Arguments\n",
    "            h: image height\n",
    "            w: image width\n",
    "            outputs: output size of linear layer\n",
    "        # Result\n",
    "            initialized CNN\n",
    "        \"\"\"\n",
    "        super(DQN, self).__init__()\n",
    "        self.conv1 = nn.Conv2d(3, 16, kernel_size = 5, stride = 2)\n",
    "        self.bn1 = nn.BatchNorm2d(16)\n",
    "        self.conv2 = nn.Conv2d(16, 32, kernel_size = 5, stride = 2)\n",
    "        self.bn2 = nn.BatchNorm2d(32)\n",
    "        self.conv3 = nn.Conv2d(32, 32, kernel_size=5, stride = 2)\n",
    "        self.bn3 = nn.BatchNorm2d(32)\n",
    "        \n",
    "        def conv2d_size_out(size, kernel_size = 5, stride = 2):\n",
    "            return (size - kernel_size) // stride + 1\n",
    "        convw = conv2d_size_out(conv2d_size_out(conv2d_size_out(w)))\n",
    "        convh = conv2d_size_out(conv2d_size_out(conv2d_size_out(h)))\n",
    "        linear_input_size = convw * convh * 32\n",
    "        self.head = nn.Linear(linear_input_size, outputs)\n",
    "        \n",
    "    def forward(self, x):\n",
    "        \"\"\"Suggest action based on state x\n",
    "    \n",
    "        # Arguments\n",
    "            x: input image describing the state of the environment\n",
    "        # Result\n",
    "            suggested action\n",
    "        \"\"\"\n",
    "        x = F.relu(self.bn1(self.conv1(x)))\n",
    "        x = F.relu(self.bn2(self.conv2(x)))\n",
    "        x = F.relu(self.bn3(self.conv3(x)))\n",
    "        return self.head(x.view(x.size(0), -1))"
   ]
  },
  {
   "cell_type": "markdown",
   "metadata": {},
   "source": [
    "As we discuss below, it will be convenient to create two instances of the network, the **policy network** and the **target network**."
   ]
  },
  {
   "cell_type": "code",
   "execution_count": 40,
   "metadata": {},
   "outputs": [],
   "source": [
    "import torch.optim as optim\n",
    "\n",
    "nactions = env.action_space.n\n",
    "scr_height_resize = 40\n",
    "scr_width_resize = 90\n",
    "\n",
    "policy_net = DQN(scr_height_resize, scr_width_resize, nactions).to(device)\n",
    "target_net = DQN(scr_height_resize, scr_width_resize, nactions).to(device)\n",
    "\n",
    "#copy initialization from policy net\n",
    "target_net.load_state_dict(policy_net.state_dict())\n",
    "c = target_net.eval()\n",
    "optimizer = optim.RMSprop(policy_net.parameters())"
   ]
  },
  {
   "cell_type": "markdown",
   "metadata": {},
   "source": [
    "## Replay Memory"
   ]
  },
  {
   "cell_type": "markdown",
   "metadata": {},
   "source": [
    "In order to carry out the TD learning, we first need to build up a large pool of transition training data consisting of tuples $(s_i, a_i, s_i', r_i)$. They form the **replay memory**."
   ]
  },
  {
   "cell_type": "code",
   "execution_count": null,
   "metadata": {},
   "outputs": [],
   "source": [
    "import random\n",
    "\n",
    "mem_size = int(1e4)\n",
    "memory = []\n",
    "env.reset()\n",
    "\n",
    "last_screen = get_screen()\n",
    "current_screen = get_screen()\n",
    "\n",
    "for _ in range(mem_size):\n",
    "    s = current_screen - last_screen    \n",
    "    \n",
    "    a = torch.tensor([[random.randrange(nactions)]],\n",
    "                    device = device,\n",
    "                    dtype=torch.long)\n",
    "    _, r, d, _ = env.step(a.item())\n",
    "    r = torch.tensor([r], device = device)\n",
    "    \n",
    "    last_screen = current_screen\n",
    "    current_screen = get_screen()\n",
    "    \n",
    "    if not d:\n",
    "        ss = current_screen - last_screen\n",
    "    else:\n",
    "        ss = None\n",
    "        env.reset()\n",
    "    memory += [[s, a, r, ss]]"
   ]
  },
  {
   "cell_type": "markdown",
   "metadata": {},
   "source": [
    "## The Bellman Equation and Temporal-Difference Learning"
   ]
  },
  {
   "cell_type": "markdown",
   "metadata": {},
   "source": [
    "Although CEM is an intriguingly simple method that works well for the ``cartpole`` example, it is highly *sample inefficient*. That is, for each parameter value $\\theta$, we need to follow an entire episode in order to obtain a single reward value that we can use for fitting. "
   ]
  },
  {
   "cell_type": "markdown",
   "metadata": {},
   "source": [
    "Q-learning methods aim to drastically improve sample efficiency by relying on the **Bellman Equation**. Recall that this equation states that the action-value function $Q^*$ associated with an optimal policy satisfies the identity\n",
    "$$Q^*(s, a) = r + \\max_{a' \\in A} Q^*(s', a'),$$\n",
    "where $s'$ is the state of the environment after performing the action $a$ in state $s$. Deep $Q$-learning leverages this identity by choosing $\\theta$ to minimize \n",
    "$$\\ell\\big(Q_\\theta(s_i, a_i) - ( r_i + \\max_{a' \\in A} Q_\\theta(s'_i, a'))\\big)$$\n",
    "for a suitable loss function $\\ell$, where $\\{(s_i, a_i, s_i', r_i)\\}_i$ are arbitrary samples from the environment. In particular, we are now substantially more sample-efficient as we obtain *one target value per step* instead of *one target value per episode*."
   ]
  },
  {
   "cell_type": "markdown",
   "metadata": {},
   "source": [
    "Fitting the parameters $\\theta$ via the Bellman equation is also known as **temporal-difference (TD) learning**."
   ]
  },
  {
   "cell_type": "markdown",
   "metadata": {},
   "source": [
    "In practice, updating the Q-network through\n",
    "$$\\ell\\big(Q_\\theta(s_i, a_i) - ( r_i + \\max_{a' \\in A} Q_\\theta(s'_i, a'))\\big)$$\n",
    "creates instabilities since the optimal action is selected with respect to a network whose weights are in the process of being learned. Therefore, we use a **policy network** $Q_\\theta$ and a **target network** $Q_{\\theta^-}$ and learn the weights of the policy network through  \n",
    "$$\\ell\\big(Q_\\theta(s_i, a_i) - ( r_i + \\max_{a' \\in A} Q_{\\theta^-}(s'_i, a'))\\big).$$\n",
    "The weights $\\theta^-$ of the target network remain stable over several iterations and are only periodically updated with the learned weights from the policy network. In practice, this stabilizes the training process substantially.\n",
    "\n"
   ]
  },
  {
   "cell_type": "code",
   "execution_count": null,
   "metadata": {},
   "outputs": [],
   "source": [
    "BATCH_SIZE = 128\n",
    "GAMMA = .99\n",
    "\n",
    "def optimize_model():\n",
    "    \"\"\"Train Q-function approximation by performing gradient descent with data from experience replay\n",
    "    \"\"\"\n",
    "\n",
    "    transitions =  random.sample(memory, BATCH_SIZE)\n",
    "    # Syntactic sugar to transpose batch transitions\n",
    "    batch = list(zip(*transitions))\n",
    "\n",
    "    # Compute mask of non-final states\n",
    "    non_final_mask = torch.tensor(tuple(map(lambda s: s is not None,\n",
    "                                          batch[2])), device=device, dtype=torch.uint8)\n",
    "    non_final_next_states = torch.cat([s for s in batch[2]\n",
    "                                                if s is not None])\n",
    "    s = torch.cat(batch[0])\n",
    "    a = torch.cat(batch[1])\n",
    "    r = torch.cat(batch[3])\n",
    "\n",
    "    #compute q values for selected actions in batch\n",
    "    q = policy_net(s).gather(1, a)\n",
    "\n",
    "    # compute state-value function for non-final states through the target net\n",
    "    v = torch.zeros(BATCH_SIZE, device=device)\n",
    "    v[non_final_mask] = target_net(non_final_next_states).max(1)[0].detach()\n",
    "    \n",
    "    # compute the expected q-values\n",
    "    expected_q = (v * GAMMA) + r\n",
    "\n",
    "    # compute Huber loss\n",
    "    loss = F.smooth_l1_loss(q, expected_q.unsqueeze(1))\n",
    "\n",
    "    # optimize the model\n",
    "    optimizer.zero_grad()\n",
    "    loss.backward()\n",
    "    for param in policy_net.parameters():\n",
    "        param.grad.data.clamp_(-1, 1)\n",
    "    optimizer.step()"
   ]
  },
  {
   "cell_type": "markdown",
   "metadata": {},
   "source": [
    "## $\\varepsilon$-Greedy Policy"
   ]
  },
  {
   "cell_type": "markdown",
   "metadata": {},
   "source": [
    "In the case of a perfectly estimated $Q$-function, when in state $s$, we should always choose an action $a$ solving the maximization problem $\\max_a Q^*(s, a).$ However, when $Q^*$ is still being learned, this **greedy policy** results in poor exploration of the state space. Therefore, we pick a random action with a non-zero probability $\\varepsilon$, thereby leading to the **$\\varepsilon$-greedy policy**. As the learning proceeds and stabilizes $\\varepsilon$ decreases gradually in order to give greater weight to the greedy policy."
   ]
  },
  {
   "cell_type": "code",
   "execution_count": 36,
   "metadata": {},
   "outputs": [],
   "source": [
    "import math\n",
    "\n",
    "EPS_START = .9\n",
    "EPS_END = .05\n",
    "EPS_DECAY = 200\n",
    "\n",
    "steps_done = 0\n",
    "\n",
    "def select_action(s):\n",
    "    \"\"\"Select action based on \\e-greedy policy\n",
    "    \n",
    "    # Arguments\n",
    "        s: current state\n",
    "    # Result\n",
    "        suggested action\n",
    "    \"\"\"\n",
    "    global steps_done\n",
    "    sample = random.random()\n",
    "    eps_threshold = EPS_END + (EPS_START - EPS_END) * \\\n",
    "        math.exp(-1. * steps_done / EPS_DECAY)\n",
    "    steps_done += 1\n",
    "    \n",
    "    #policy suggested by policy net\n",
    "    if sample > eps_threshold:\n",
    "        with torch.no_grad():\n",
    "            # t.max(1) will return largest column value of each row.\n",
    "            # second column on max result is index of where max element was\n",
    "            # found, so we pick action with the larger expected reward.\n",
    "            return policy_net(s).max(1)[1].view(1, 1)\n",
    "  \n",
    "    #random policy\n",
    "    else:\n",
    "        return torch.tensor([[random.randrange(nactions)]], \n",
    "                            device = device, \n",
    "                            dtype = torch.long)\n"
   ]
  },
  {
   "cell_type": "markdown",
   "metadata": {},
   "source": [
    "## Main loop"
   ]
  },
  {
   "cell_type": "markdown",
   "metadata": {},
   "source": [
    "Now, we can assemble all the pieces into a main loop."
   ]
  },
  {
   "cell_type": "code",
   "execution_count": 37,
   "metadata": {},
   "outputs": [],
   "source": [
    "from itertools import count\n",
    "import math\n",
    "import random\n",
    "mem_pos = 0"
   ]
  },
  {
   "cell_type": "code",
   "execution_count": null,
   "metadata": {},
   "outputs": [],
   "source": [
    "#frequency of updating target net\n",
    "TARGET_UPDATE = 10\n",
    "\n",
    "#number of episodes\n",
    "neps = int(1e3)\n",
    "\n",
    "total_reward = 0\n",
    "\n",
    "for i in range(neps):\n",
    "    # Initialize the environment and state\n",
    "    env.reset()\n",
    "    print('epoch')\n",
    "\n",
    "    last_screen = get_screen()\n",
    "    current_screen = get_screen()\n",
    "    \n",
    "    for t in count():\n",
    "        #perform one step in environment\n",
    "        s = current_screen - last_screen\n",
    "        a = select_action(s)\n",
    "        _, r, done, _ = env.step(a.item())\n",
    "        r = torch.tensor([r], device=device)\n",
    "\n",
    "        last_screen = current_screen\n",
    "        current_screen = get_screen()\n",
    "        \n",
    "        if not done:\n",
    "            ss = current_screen - last_screen\n",
    "        else:\n",
    "            ss = None\n",
    "        if done:\n",
    "            env.reset()\n",
    "\n",
    "        #update replay buffer\n",
    "        memory[mem_pos] = (s, a, ss, r)\n",
    "        mem_pos = (mem_pos + 1) % mem_size\n",
    "\n",
    "        # Perform one step of the optimization (on the target network)\n",
    "        optimize_model()\n",
    "        s = ss\n",
    "        if done:   \n",
    "            total_reward += t\n",
    "            break\n",
    "    if i % TARGET_UPDATE == 0:\n",
    "            print('updating')\n",
    "            print(total_reward)\n",
    "            total_reward = 0\n",
    "            target_net.load_state_dict(policy_net.state_dict())"
   ]
  },
  {
   "cell_type": "markdown",
   "metadata": {},
   "source": [
    "## Double Deep Q Networks"
   ]
  },
  {
   "cell_type": "markdown",
   "metadata": {},
   "source": [
    "[Double Deep Q Networks (DDQN)](https://arxiv.org/abs/1509.06461) are a nice trick for stabilizing the learning with respect to the vanilla DQNs."
   ]
  },
  {
   "cell_type": "markdown",
   "metadata": {},
   "source": [
    "## Separation of Action Selection and Evaluation"
   ]
  },
  {
   "cell_type": "markdown",
   "metadata": {},
   "source": [
    "Recall that the idea behind DQN is to cast the approximation of the $Q$ function as a supervised learning problem via the Bellman equation. More precisely, we learn the parameters $\\theta$ of the policy network $Q_\\theta(s,a)$ by regressing them against the quantities \n",
    "$$r + \\gamma \\max_{a' \\in A} Q_{\\theta^-}(s', a')$$ \n",
    "from the target network $Q_{\\theta^-}$, where $s'$ is the state entered from $s$ after performing the action $a$. We note that in the above expression the target network performs two tasks. First, $\\max_{a' \\in A} Q_{\\theta^-}(s', a')$ selects the optimal action $a_{\\mathsf{opt}}$ when in state $s'$. Second, the value of performing this action is also estimated through $r + Q_{\\theta^-}(s', a_{\\mathsf{opt}})$. This entanglement often leads to overestimation of certain $Q$-values, thereby slowing down the learning."
   ]
  },
  {
   "cell_type": "markdown",
   "metadata": {},
   "source": [
    "[DDQNs]() counter the overestimation by selecting the action via the policy network while estimating its value via the target network. That is, the targets for $Q$-learning become\n",
    "$$r + Q_{\\theta^-}(s', a_{\\mathsf{opt-DDQN}}),$$\n",
    "where $a_{\\mathsf{opt-DDQN}}$ solves the maximization problem $\\max_{a' \\in A} Q_{\\theta}(s', a')$ for the policy network $Q_\\theta$."
   ]
  },
  {
   "cell_type": "code",
   "execution_count": 16,
   "metadata": {},
   "outputs": [],
   "source": [
    "BATCH_SIZE = 128\n",
    "GAMMA = .99\n",
    "\n",
    "def optimize_model():\n",
    "\n",
    "    transitions =  random.sample(memory, BATCH_SIZE)\n",
    "    # Syntactic sugar to transpose batch transitions\n",
    "    batch = list(zip(*transitions))\n",
    "\n",
    "    # Compute mask of non-final states\n",
    "    non_final_mask = torch.tensor(tuple(map(lambda s: s is not None,\n",
    "                                          batch[2])), device=device, dtype=torch.uint8)\n",
    "    non_final_next_states = torch.cat([s for s in batch[2]\n",
    "                                                if s is not None])\n",
    "    s = torch.cat(batch[0])\n",
    "    a = torch.cat(batch[1])\n",
    "    r = torch.cat(batch[3])\n",
    "\n",
    "\n",
    "    # Compute V(s_{t+1}) for all next states.\n",
    "    # Expected values of actions for non_final_next_states are computed based\n",
    "    # on the \"older\" target_net; selecting their best reward with max(1)[0].\n",
    "    # This is merged based on the mask, such that we'll have either the expected\n",
    "    # state value or 0 in case the state was final.\n",
    "    v = torch.zeros(BATCH_SIZE, device=device)\n",
    "    chosen_as = policy_net(non_final_next_states).max(1)[1]\n",
    "    chosen_as = torch.stack((chosen_as, chosen_as), 1)\n",
    "    v[non_final_mask] = target_net(non_final_next_states).gather(1, chosen_as)[:, 0].detach()\n",
    "    \n",
    "    # compute the expected q-values\n",
    "    expected_q = (v * GAMMA) + r\n",
    "\n",
    "    # compute Huber loss\n",
    "    loss = F.smooth_l1_loss(q, expected_q.unsqueeze(1))\n",
    "\n",
    "    # optimize the model\n",
    "    optimizer.zero_grad()\n",
    "    loss.backward()\n",
    "    for param in policy_net.parameters():\n",
    "        param.grad.data.clamp_(-1, 1)\n",
    "    optimizer.step()"
   ]
  }
 ],
 "metadata": {
  "kernelspec": {
   "display_name": "Python 3",
   "language": "python",
   "name": "python3"
  },
  "language_info": {
   "codemirror_mode": {
    "name": "ipython",
    "version": 3
   },
   "file_extension": ".py",
   "mimetype": "text/x-python",
   "name": "python",
   "nbconvert_exporter": "python",
   "pygments_lexer": "ipython3",
   "version": "3.7.3"
  }
 },
 "nbformat": 4,
 "nbformat_minor": 2
}
