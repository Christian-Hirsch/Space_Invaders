{
 "cells": [
  {
   "cell_type": "markdown",
   "metadata": {},
   "source": [
    "# Thompson Sampling"
   ]
  },
  {
   "cell_type": "markdown",
   "metadata": {},
   "source": [
    "## Motivation"
   ]
  },
  {
   "cell_type": "markdown",
   "metadata": {},
   "source": [
    "In a [previous notebook](./ucb.ipynb), we have learned how UCB can identify quickly the optimal arm in classical [Multi-Armed Bandits](https://banditalgs.com/2016/09/18/the-upper-confidence-bound-algorithm/). Now, we learn how [Thompson Sampling]() -- developed by [W. Thompson]() in 1933 -- leverages a Bayesian perspective to tackle this problem."
   ]
  },
  {
   "cell_type": "markdown",
   "metadata": {},
   "source": [
    "In addition to determining the optimal arm, the Bayesian viewpoint also allows to create confidence intervals for the parameters of the underlying bandit."
   ]
  },
  {
   "cell_type": "markdown",
   "metadata": {},
   "source": [
    "More precisely, we assume that we have a prior intuition on kind of bandits we may encounter in our application scenario. This belief is encoded in a **prior distribution** $Q(\\theta)$ over all bandits."
   ]
  },
  {
   "cell_type": "markdown",
   "metadata": {},
   "source": [
    "As we play a given bandit for $N$ rounds by performing actions $A_1, A_2, \\dots, A_n$ and receiving rewards $R_1, R_2, \\dots, R_n$. This data should lead to us to update our initial, potentially naïve, prior beliefs. This leads to a **posterior distribution** $Q(\\theta | A_1, R_1, \\dots, A_n, R_n)$ computed via [Bayes' Theorem](https://en.wikipedia.org/wiki/Bayes%27_theorem):\n",
    "$$Q(\\theta |  A_1, R_1, \\dots, A_n, R_n) = \\frac{Q(\\theta ,  A_1, R_1, \\dots, A_n, R_n)}{\\int_\\theta Q(A_1, R_1, \\dots, A_n, R_n|\\theta) Q(\\theta) {\\rm d}\\theta}$$"
   ]
  },
  {
   "cell_type": "markdown",
   "metadata": {},
   "source": [
    "Thompson sampling is based on two simple steps:"
   ]
  },
  {
   "cell_type": "markdown",
   "metadata": {},
   "source": [
    "**Sample parameter from the posterior**"
   ]
  },
  {
   "cell_type": "markdown",
   "metadata": {},
   "source": [
    "**Pick the arm with the highest reward under this parameter**"
   ]
  },
  {
   "cell_type": "markdown",
   "metadata": {},
   "source": [
    "## Example: Beta-Bernoulli bandit"
   ]
  },
  {
   "cell_type": "markdown",
   "metadata": {},
   "source": [
    "To explain the general idea at a specific example, we present *Beta-Bernoulli Bandits* following the lucid blogpost by [Peter Roelants](https://peterroelants.github.io/)."
   ]
  },
  {
   "cell_type": "markdown",
   "metadata": {},
   "source": [
    "More precisely, a Bernoulli bandit returns rewards in $\\{0, 1\\}$ and we write $\\mu_i$ for the success probability of the $i$th arm. We use a $\\mathsf{Beta}(\\alpha, \\beta)$ prior for each $\\mu_i$, [recalling](https://en.wikipedia.org/wiki/Beta_distribution) that the $\\mathsf{Beta}(\\alpha, \\beta)$ distribution is a probability distribution on $[0, 1]$ with unnormalized density\n",
    "$$p_{\\alpha, \\beta}(x) \\propto x^{\\alpha - 1}(1 - x)^{\\beta - 1}.$$"
   ]
  },
  {
   "cell_type": "markdown",
   "metadata": {},
   "source": [
    "The beta distribution is particularly popular in Bayesian contexts, since the posterior distribution is again a beta distribution with adapted parameters. More precisely, if an arm was played $k \\le n$ times with $s \\le k$ successes, then the posterior is a $\\mathsf{Beta}(\\alpha + s, \\beta + (k - s))$ distribution."
   ]
  },
  {
   "cell_type": "markdown",
   "metadata": {},
   "source": [
    "## Simulation"
   ]
  },
  {
   "cell_type": "markdown",
   "metadata": {},
   "source": [
    "For the simulation, we initialize the Bayesian parameters as $\\alpha = \\beta = 1$. We take a specific 2-armed Bernoulli-bandit with success probabilities $\\mu_1 = 0.5$ and $\\mu_2 = 0.55$."
   ]
  },
  {
   "cell_type": "code",
   "execution_count": 2,
   "metadata": {},
   "outputs": [],
   "source": [
    "import numpy as np\n",
    "\n",
    "seed = 42\n",
    "np.random.seed(seed)\n",
    "\n",
    "#initial beta parameters\n",
    "alphas = np.ones(2)\n",
    "betas = np.ones(2)\n",
    "\n",
    "#success probs\n",
    "mus = [.5, .55]\n",
    "\n",
    "#episodes\n",
    "N = 1000\n",
    "\n",
    "#action trace\n",
    "trace_a = []"
   ]
  },
  {
   "cell_type": "markdown",
   "metadata": {},
   "source": [
    "Then, we play the bandit for $N = 1000$ episodes."
   ]
  },
  {
   "cell_type": "code",
   "execution_count": 3,
   "metadata": {},
   "outputs": [],
   "source": [
    "ks = np.zeros(2)\n",
    "ss = np.zeros(2)\n",
    "\n",
    "for _ in range(N):\n",
    "    #sample parameters according to posterior\n",
    "    succ_probs = np.random.beta(alphas + ss, betas + ks - ss)\n",
    "\n",
    "    #select action with highest success probability\n",
    "    a = np.argmax(succ_probs)\n",
    "\n",
    "    #retrieve rewards\n",
    "    r = np.random.rand() < mus[a]\n",
    "\n",
    "    #update history\n",
    "    ks[a] += 1\n",
    "    ss[a] += r\n",
    "\n",
    "    #remember actions\n",
    "    trace_a += [a]"
   ]
  },
  {
   "cell_type": "markdown",
   "metadata": {},
   "source": [
    "A plot of the trace reveals that Thompson sampling quickly identifies arm 1 as the optimal arm."
   ]
  },
  {
   "cell_type": "code",
   "execution_count": 3,
   "metadata": {},
   "outputs": [
    {
     "data": {
      "text/plain": [
       "<matplotlib.axes._subplots.AxesSubplot at 0x7f1ff9207c10>"
      ]
     },
     "execution_count": 3,
     "metadata": {},
     "output_type": "execute_result"
    },
    {
     "data": {
      "image/png": "[encoded data removed]",
      "text/plain": [
       "<Figure size 432x288 with 1 Axes>"
      ]
     },
     "metadata": {
      "needs_background": "light"
     },
     "output_type": "display_data"
    }
   ],
   "source": [
    "import seaborn as sns\n",
    "%matplotlib inline\n",
    "\n",
    "sns.lineplot(np.arange(N), trace_a)"
   ]
  },
  {
   "cell_type": "code",
   "execution_count": null,
   "metadata": {},
   "outputs": [],
   "source": []
  },
  {
   "cell_type": "code",
   "execution_count": null,
   "metadata": {},
   "outputs": [],
   "source": []
  }
 ],
 "metadata": {
  "kernelspec": {
   "display_name": "Python 3",
   "language": "python",
   "name": "python3"
  },
  "language_info": {
   "codemirror_mode": {
    "name": "ipython",
    "version": 3
   },
   "file_extension": ".py",
   "mimetype": "text/x-python",
   "name": "python",
   "nbconvert_exporter": "python",
   "pygments_lexer": "ipython3",
   "version": "3.7.5rc1"
  }
 },
 "nbformat": 4,
 "nbformat_minor": 4
}
