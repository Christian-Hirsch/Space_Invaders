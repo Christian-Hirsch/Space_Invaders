{
 "cells": [
  {
   "cell_type": "markdown",
   "metadata": {},
   "source": [
    "# Policy Gradient"
   ]
  },
  {
   "cell_type": "markdown",
   "metadata": {},
   "source": [
    "[Policy Gradient algorithms](https://lilianweng.github.io/lil-log/2018/04/08/policy-gradient-algorithms.html) are as of today among the most powerful and versatile approaches towards reinforcement learning in gigantic state spaces. In this notebook, we go step by step through the [lucid example](https://github.com/openai/spinningup/blob/master/spinup/examples/pg_math/1_simple_pg.py) presented by OpenAI."
   ]
  },
  {
   "cell_type": "markdown",
   "metadata": {},
   "source": [
    "First, we load the CartPole environment and record the size of the state and action spaces."
   ]
  },
  {
   "cell_type": "code",
   "execution_count": 1,
   "metadata": {},
   "outputs": [],
   "source": [
    "import gym \n",
    "import numpy as np\n",
    "env = gym.make('CartPole-v0')\n",
    "\n",
    "n_s = env.observation_space.shape[0]\n",
    "n_a = env.action_space.n"
   ]
  },
  {
   "cell_type": "markdown",
   "metadata": {},
   "source": [
    "Next, we build a policy network as a linear model."
   ]
  },
  {
   "cell_type": "code",
   "execution_count": 2,
   "metadata": {},
   "outputs": [
    {
     "name": "stderr",
     "output_type": "stream",
     "text": [
      "/home/ubuntu/.local/lib/python3.6/site-packages/tensorflow/python/framework/dtypes.py:516: FutureWarning: Passing (type, 1) or '1type' as a synonym of type is deprecated; in a future version of numpy, it will be understood as (type, (1,)) / '(1,)type'.\n",
      "  _np_qint8 = np.dtype([(\"qint8\", np.int8, 1)])\n",
      "/home/ubuntu/.local/lib/python3.6/site-packages/tensorflow/python/framework/dtypes.py:517: FutureWarning: Passing (type, 1) or '1type' as a synonym of type is deprecated; in a future version of numpy, it will be understood as (type, (1,)) / '(1,)type'.\n",
      "  _np_quint8 = np.dtype([(\"quint8\", np.uint8, 1)])\n",
      "/home/ubuntu/.local/lib/python3.6/site-packages/tensorflow/python/framework/dtypes.py:518: FutureWarning: Passing (type, 1) or '1type' as a synonym of type is deprecated; in a future version of numpy, it will be understood as (type, (1,)) / '(1,)type'.\n",
      "  _np_qint16 = np.dtype([(\"qint16\", np.int16, 1)])\n",
      "/home/ubuntu/.local/lib/python3.6/site-packages/tensorflow/python/framework/dtypes.py:519: FutureWarning: Passing (type, 1) or '1type' as a synonym of type is deprecated; in a future version of numpy, it will be understood as (type, (1,)) / '(1,)type'.\n",
      "  _np_quint16 = np.dtype([(\"quint16\", np.uint16, 1)])\n",
      "/home/ubuntu/.local/lib/python3.6/site-packages/tensorflow/python/framework/dtypes.py:520: FutureWarning: Passing (type, 1) or '1type' as a synonym of type is deprecated; in a future version of numpy, it will be understood as (type, (1,)) / '(1,)type'.\n",
      "  _np_qint32 = np.dtype([(\"qint32\", np.int32, 1)])\n",
      "/home/ubuntu/.local/lib/python3.6/site-packages/tensorflow/python/framework/dtypes.py:525: FutureWarning: Passing (type, 1) or '1type' as a synonym of type is deprecated; in a future version of numpy, it will be understood as (type, (1,)) / '(1,)type'.\n",
      "  np_resource = np.dtype([(\"resource\", np.ubyte, 1)])\n"
     ]
    },
    {
     "name": "stdout",
     "output_type": "stream",
     "text": [
      "WARNING:tensorflow:From <ipython-input-2-72aed85bc5b4>:9: dense (from tensorflow.python.layers.core) is deprecated and will be removed in a future version.\n",
      "Instructions for updating:\n",
      "Use keras.layers.dense instead.\n",
      "WARNING:tensorflow:From /home/ubuntu/.local/lib/python3.6/site-packages/tensorflow/python/ops/init_ops.py:1251: calling VarianceScaling.__init__ (from tensorflow.python.ops.init_ops) with dtype is deprecated and will be removed in a future version.\n",
      "Instructions for updating:\n",
      "Call initializer instance with the dtype argument instead of passing it to the constructor\n",
      "WARNING:tensorflow:Entity <bound method Dense.call of <tensorflow.python.layers.core.Dense object at 0x7f1c366ee9e8>> could not be transformed and will be executed as-is. Please report this to the AutgoGraph team. When filing the bug, set the verbosity to 10 (on Linux, `export AUTOGRAPH_VERBOSITY=10`) and attach the full output. Cause: converting <bound method Dense.call of <tensorflow.python.layers.core.Dense object at 0x7f1c366ee9e8>>: AssertionError: Bad argument number for Name: 3, expecting 4\n",
      "WARNING: Entity <bound method Dense.call of <tensorflow.python.layers.core.Dense object at 0x7f1c366ee9e8>> could not be transformed and will be executed as-is. Please report this to the AutgoGraph team. When filing the bug, set the verbosity to 10 (on Linux, `export AUTOGRAPH_VERBOSITY=10`) and attach the full output. Cause: converting <bound method Dense.call of <tensorflow.python.layers.core.Dense object at 0x7f1c366ee9e8>>: AssertionError: Bad argument number for Name: 3, expecting 4\n",
      "WARNING:tensorflow:Entity <bound method Dense.call of <tensorflow.python.layers.core.Dense object at 0x7f1c55bc7b70>> could not be transformed and will be executed as-is. Please report this to the AutgoGraph team. When filing the bug, set the verbosity to 10 (on Linux, `export AUTOGRAPH_VERBOSITY=10`) and attach the full output. Cause: converting <bound method Dense.call of <tensorflow.python.layers.core.Dense object at 0x7f1c55bc7b70>>: AssertionError: Bad argument number for Name: 3, expecting 4\n",
      "WARNING: Entity <bound method Dense.call of <tensorflow.python.layers.core.Dense object at 0x7f1c55bc7b70>> could not be transformed and will be executed as-is. Please report this to the AutgoGraph team. When filing the bug, set the verbosity to 10 (on Linux, `export AUTOGRAPH_VERBOSITY=10`) and attach the full output. Cause: converting <bound method Dense.call of <tensorflow.python.layers.core.Dense object at 0x7f1c55bc7b70>>: AssertionError: Bad argument number for Name: 3, expecting 4\n",
      "WARNING:tensorflow:From <ipython-input-2-72aed85bc5b4>:18: multinomial (from tensorflow.python.ops.random_ops) is deprecated and will be removed in a future version.\n",
      "Instructions for updating:\n",
      "Use `tf.random.categorical` instead.\n"
     ]
    },
    {
     "name": "stderr",
     "output_type": "stream",
     "text": [
      "/home/ubuntu/.local/lib/python3.6/site-packages/tensorboard/compat/tensorflow_stub/dtypes.py:541: FutureWarning: Passing (type, 1) or '1type' as a synonym of type is deprecated; in a future version of numpy, it will be understood as (type, (1,)) / '(1,)type'.\n",
      "  _np_qint8 = np.dtype([(\"qint8\", np.int8, 1)])\n",
      "/home/ubuntu/.local/lib/python3.6/site-packages/tensorboard/compat/tensorflow_stub/dtypes.py:542: FutureWarning: Passing (type, 1) or '1type' as a synonym of type is deprecated; in a future version of numpy, it will be understood as (type, (1,)) / '(1,)type'.\n",
      "  _np_quint8 = np.dtype([(\"quint8\", np.uint8, 1)])\n",
      "/home/ubuntu/.local/lib/python3.6/site-packages/tensorboard/compat/tensorflow_stub/dtypes.py:543: FutureWarning: Passing (type, 1) or '1type' as a synonym of type is deprecated; in a future version of numpy, it will be understood as (type, (1,)) / '(1,)type'.\n",
      "  _np_qint16 = np.dtype([(\"qint16\", np.int16, 1)])\n",
      "/home/ubuntu/.local/lib/python3.6/site-packages/tensorboard/compat/tensorflow_stub/dtypes.py:544: FutureWarning: Passing (type, 1) or '1type' as a synonym of type is deprecated; in a future version of numpy, it will be understood as (type, (1,)) / '(1,)type'.\n",
      "  _np_quint16 = np.dtype([(\"quint16\", np.uint16, 1)])\n",
      "/home/ubuntu/.local/lib/python3.6/site-packages/tensorboard/compat/tensorflow_stub/dtypes.py:545: FutureWarning: Passing (type, 1) or '1type' as a synonym of type is deprecated; in a future version of numpy, it will be understood as (type, (1,)) / '(1,)type'.\n",
      "  _np_qint32 = np.dtype([(\"qint32\", np.int32, 1)])\n",
      "/home/ubuntu/.local/lib/python3.6/site-packages/tensorboard/compat/tensorflow_stub/dtypes.py:550: FutureWarning: Passing (type, 1) or '1type' as a synonym of type is deprecated; in a future version of numpy, it will be understood as (type, (1,)) / '(1,)type'.\n",
      "  np_resource = np.dtype([(\"resource\", np.ubyte, 1)])\n"
     ]
    }
   ],
   "source": [
    "import tensorflow as tf\n",
    "\n",
    "#input\n",
    "s_ph = tf.placeholder(shape = (None, n_s), dtype = tf.float32)\n",
    "\n",
    "#action probabilities\n",
    "logits = tf.layers.dense(s_ph,\n",
    "                         units = n_a,\n",
    "                         activation = None)\n",
    "\n",
    "#sample from policy \n",
    "actions = tf.squeeze(tf.multinomial(logits=logits,\n",
    "                                    num_samples=1), \n",
    "                     axis=1)"
   ]
  },
  {
   "cell_type": "markdown",
   "metadata": {},
   "source": [
    "## Vanilla Policy Gradient"
   ]
  },
  {
   "cell_type": "markdown",
   "metadata": {},
   "source": [
    "With this network we can build the expressions to be analyzed in policy gradient."
   ]
  },
  {
   "cell_type": "code",
   "execution_count": 6,
   "metadata": {},
   "outputs": [],
   "source": [
    "weights_ph = tf.placeholder(shape=(None,), \n",
    "                            dtype=tf.float32)\n",
    "a_ph = tf.placeholder(shape=(None,), \n",
    "                        dtype=tf.int32)\n",
    "a_masks = tf.one_hot(a_ph, n_a)\n",
    "log_probs = tf.reduce_sum(a_masks * tf.nn.log_softmax(logits), \n",
    "                          axis=1)\n",
    "pol_grad = -tf.reduce_mean(weights_ph * log_probs)"
   ]
  },
  {
   "cell_type": "markdown",
   "metadata": {},
   "source": [
    "Given the rewards gathered in an episode in the vanilla policy gradient, the log-probabilities are weighted simply by the accumulated rewards."
   ]
  },
  {
   "cell_type": "code",
   "execution_count": 8,
   "metadata": {},
   "outputs": [],
   "source": [
    "def vanilla_pg(episode_rs):\n",
    "    \"\"\"weights for vanilla policy gradient\n",
    "    \n",
    "    # Arguments\n",
    "        episode_rs: rewards inside episode\n",
    "        \n",
    "    # Result\n",
    "        weights for vanilla policy gradient\n",
    "    \"\"\"  \n",
    "    return [np.sum(episode_rs)] * len(episode_rs)\n",
    "    "
   ]
  },
  {
   "cell_type": "markdown",
   "metadata": {},
   "source": [
    "Now, we act according to the policy."
   ]
  },
  {
   "cell_type": "code",
   "execution_count": 36,
   "metadata": {},
   "outputs": [],
   "source": [
    "def play_mdp(policy_net,\n",
    "             placeholder,\n",
    "             weights = vanilla_pg,\n",
    "             batch_size = 5000):\n",
    "    \"\"\"Play an MDP according to given policy network\n",
    "    \n",
    "    # Arguments\n",
    "        policy_net: network for selecting actions\n",
    "        placeholder: input for policy net\n",
    "        weights: weight-function for policy gradient\n",
    "        batch_size: number of rounds to play\n",
    "        \n",
    "    # Result\n",
    "        batch of experienced states, actions and weights\n",
    "    \"\"\"    \n",
    "    #rewards per episode \n",
    "    episode_rs = []\n",
    "    trace_episode_rs = []\n",
    "    \n",
    "    #collect data on states, actions and weights\n",
    "    batch_ss, batch_as, batch_ws = [], [], []\n",
    "    \n",
    "    #initialize environment\n",
    "    s = env.reset()\n",
    "\n",
    "    while True:\n",
    "        #determine action\n",
    "        a = sess.run(policy_net, \n",
    "                     {placeholder: s.reshape(1,-1)})[0]\n",
    "\n",
    "        #store state-action pair\n",
    "        batch_ss.append(s.copy())\n",
    "        batch_as.append(a.copy())\n",
    "\n",
    "        #act and increase episode rewards\n",
    "        s, _, done, _ = env.step(a)\n",
    "        episode_rs += [1]\n",
    "\n",
    "        if done:\n",
    "            trace_episode_rs += [np.sum(episode_rs)]\n",
    "            \n",
    "            #append new weights and increase total rewards\n",
    "            batch_ws +=  weights(episode_rs)\n",
    "            \n",
    "            #reset environment and rewards\n",
    "            s = env.reset()           \n",
    "            episode_rs = []\n",
    "            \n",
    "            #end if sufficient information gathered\n",
    "            if(len(batch_ss) > batch_size): break\n",
    "                \n",
    "    print(\"Episode reward: {}\".format(np.mean(trace_episode_rs)))\n",
    "    return(batch_ss,\n",
    "           batch_as, \n",
    "           batch_ws)"
   ]
  },
  {
   "cell_type": "markdown",
   "metadata": {},
   "source": [
    "Once the policy gradient is computed, we can take a gradient step in this direction."
   ]
  },
  {
   "cell_type": "code",
   "execution_count": 30,
   "metadata": {},
   "outputs": [],
   "source": [
    "train_op = tf.train.AdamOptimizer(learning_rate = 1e-2).minimize(pol_grad)"
   ]
  },
  {
   "cell_type": "markdown",
   "metadata": {},
   "source": [
    "Now, we start the tensorflow session and then simulate."
   ]
  },
  {
   "cell_type": "code",
   "execution_count": 42,
   "metadata": {},
   "outputs": [
    {
     "name": "stdout",
     "output_type": "stream",
     "text": [
      "Episode reward: 31.425\n"
     ]
    }
   ],
   "source": [
    "#start tensorflow session\n",
    "sess = tf.InteractiveSession()\n",
    "sess.run(tf.global_variables_initializer())\n",
    "\n",
    "for _ in range(50):\n",
    "    (batch_ss, batch_as, batch_ws) = play_mdp(actions, \n",
    "                                              s_ph)\n",
    "    \n",
    "    _ = sess.run(train_op,\n",
    "                         feed_dict={\n",
    "                            s_ph: np.array(batch_ss),\n",
    "                            a_ph: np.array(batch_as),\n",
    "                            weights_ph: np.array(batch_ws)\n",
    "                         })"
   ]
  },
  {
   "cell_type": "markdown",
   "metadata": {},
   "source": [
    "## Reward to go"
   ]
  },
  {
   "cell_type": "markdown",
   "metadata": {},
   "source": [
    "To change to rewards to go, we only need to modify the weighting."
   ]
  },
  {
   "cell_type": "code",
   "execution_count": 38,
   "metadata": {},
   "outputs": [],
   "source": [
    "def rtg(episode_rs):\n",
    "    \"\"\"weights for reward-to-go policy gradient\n",
    "    \n",
    "    # Arguments\n",
    "        episode_rs: rewards inside episode\n",
    "        \n",
    "    # Result\n",
    "        weights for reward-to-go policy gradient\n",
    "    \"\"\"  \n",
    "    n = len(episode_rs)\n",
    "    rtgs = [0] * n\n",
    "    for i in reversed(range(n)):\n",
    "        rtgs[i] = episode_rs[i] + (rtgs[i+1] if i+1 < n else 0)\n",
    "    return rtgs\n",
    "    "
   ]
  },
  {
   "cell_type": "markdown",
   "metadata": {},
   "source": [
    "Now, we with the modified weights."
   ]
  },
  {
   "cell_type": "code",
   "execution_count": 41,
   "metadata": {},
   "outputs": [
    {
     "name": "stdout",
     "output_type": "stream",
     "text": [
      "Episode reward: 27.39344262295082\n"
     ]
    }
   ],
   "source": [
    "#start tensorflow session\n",
    "sess = tf.InteractiveSession()\n",
    "sess.run(tf.global_variables_initializer())\n",
    "\n",
    "for _ in range(50):\n",
    "    (batch_ss, batch_as, batch_ws) = play_mdp(actions, \n",
    "                                              s_ph,\n",
    "                                              rtg)\n",
    "    _ = sess.run(train_op,\n",
    "                         feed_dict={\n",
    "                            s_ph: np.array(batch_ss),\n",
    "                            a_ph: np.array(batch_as),\n",
    "                            weights_ph: np.array(batch_ws)\n",
    "                         })"
   ]
  },
  {
   "cell_type": "code",
   "execution_count": null,
   "metadata": {},
   "outputs": [],
   "source": []
  }
 ],
 "metadata": {
  "kernelspec": {
   "display_name": "Python 3",
   "language": "python",
   "name": "python3"
  },
  "language_info": {
   "codemirror_mode": {
    "name": "ipython",
    "version": 3
   },
   "file_extension": ".py",
   "mimetype": "text/x-python",
   "name": "python",
   "nbconvert_exporter": "python",
   "pygments_lexer": "ipython3",
   "version": "3.7.5rc1"
  }
 },
 "nbformat": 4,
 "nbformat_minor": 4
}
